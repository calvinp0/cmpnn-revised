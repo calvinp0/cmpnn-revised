{
 "cells": [
  {
   "cell_type": "code",
   "execution_count": 1,
   "metadata": {},
   "outputs": [],
   "source": [
    "# auto reload changes ipynb\n",
    "# auto reload\n",
    "%load_ext autoreload\n",
    "%autoreload 2\n",
    "import sys\n",
    "\n",
    "sys.path.append(\"/home/calvin/code/cmpnn_revised\")\n",
    "from typing import List\n",
    "from cmpnn.featurizer.molecule_dataset import MultiMoleculeSDFDataset\n",
    "from cmpnn.standardisation.mix_target_normalizer import MixedTargetNormalizer, BaseNormalizer, LogNormalizer, PeriodicNormalizer\n",
    "from cmpnn.featurizer.atom_bond import AtomFeaturizer, BondFeaturizer\n",
    "from cmpnn.featurizer.global_feat import CompositeGlobalFeaturizer, MorganBinaryFeaturizer, RDKit2DNormalizedFeaturizer\n",
    "from cmpnn.split.kennardstone import KennardStoneSplitter\n",
    "from torch.utils.data import DataLoader\n",
    "from cmpnn.data.collate import multimol_collate_fn\n",
    "from cmpnn.models.lightning import MultiCMPNNLightningModule\n",
    "from cmpnn.optimizer.noam import NoamLikeOptimizer\n",
    "from cmpnn.data.target import TargetSpec\n",
    "from cmpnn.standardisation.electromap_normalizer import ElectromapNormalizer\n",
    "import torch\n",
    "import torchmetrics\n",
    "import pytorch_lightning as pl\n",
    "\n"
   ]
  },
  {
   "cell_type": "code",
   "execution_count": 2,
   "metadata": {},
   "outputs": [],
   "source": [
    "sdf_files = \"/home/calvin/code/chemprop_phd_customised/habnet/data/processed/sdf_data/\"\n",
    "input_type = [\"r1h\", \"r2h\"]\n",
    "target_data = \"/home/calvin/code/chemprop_phd_customised/habnet/data/processed/target_data/target_data.csv\"\n",
    "target_columns = [\"psi_1_dihedral\"]\n",
    "target_kinds = [\"periodic\"] # Radius, Radius, Angle are continuous whilst Dihedral are periodic (0-360 degrees range -> convert to cosine/sine)"
   ]
  },
  {
   "cell_type": "code",
   "execution_count": 3,
   "metadata": {},
   "outputs": [
    {
     "name": "stdout",
     "output_type": "stream",
     "text": [
      "Processing and caching dataset to /home/calvin/code/chemprop_phd_customised/habnet/data/processed/sdf_data/sdf_folder_cache.pt\n",
      "Target data for reaction 'rxn_288' not found in /home/calvin/code/chemprop_phd_customised/habnet/data/processed/sdf_data/rxn_288.sdf.\n",
      "Target data for reaction 'rxn_635' not found in /home/calvin/code/chemprop_phd_customised/habnet/data/processed/sdf_data/rxn_635.sdf.\n",
      "Target data for reaction 'rxn_785' not found in /home/calvin/code/chemprop_phd_customised/habnet/data/processed/sdf_data/rxn_785.sdf.\n"
     ]
    }
   ],
   "source": [
    "normalizers = [\n",
    "    PeriodicNormalizer()\n",
    "]\n",
    "normalizer = MixedTargetNormalizer(kinds=target_kinds,\n",
    "                                   normalizers=normalizers)\n",
    "atom_normalizer = ElectromapNormalizer()\n",
    "\n",
    "\n",
    "m_dataset = MultiMoleculeSDFDataset(\n",
    "    sdf_files=sdf_files,\n",
    "    input_type=input_type,\n",
    "    target_data=target_data,\n",
    "    target_columns=target_columns,\n",
    "    atom_featurizer=AtomFeaturizer(v2=True),\n",
    "    bond_featurizer=BondFeaturizer(),\n",
    "    atom_messages=True,\n",
    "    use_cache=False,\n",
    "    normalizer=normalizer,\n",
    "    atom_feature_normalizer=atom_normalizer,\n",
    "    use_electro_map=True,\n",
    "    # global_featurizer=CompositeGlobalFeaturizer(\n",
    "    #     featurizers=[\n",
    "    #         MorganBinaryFeaturizer(radius=2),\n",
    "    #         RDKit2DNormalizedFeaturizer(),\n",
    "    #     ]\n",
    "    # )\n",
    ")\n"
   ]
  },
  {
   "cell_type": "code",
   "execution_count": 4,
   "metadata": {},
   "outputs": [
    {
     "data": {
      "text/plain": [
       "tensor([353.8592])"
      ]
     },
     "execution_count": 4,
     "metadata": {},
     "output_type": "execute_result"
    }
   ],
   "source": [
    "m_dataset[0][0].y"
   ]
  },
  {
   "cell_type": "code",
   "execution_count": 5,
   "metadata": {},
   "outputs": [
    {
     "name": "stdout",
     "output_type": "stream",
     "text": [
      "Number of molecules in dataset:  1807\n"
     ]
    }
   ],
   "source": [
    "print(\"Number of molecules in dataset: \", len(m_dataset))"
   ]
  },
  {
   "cell_type": "code",
   "execution_count": 6,
   "metadata": {},
   "outputs": [
    {
     "data": {
      "text/plain": [
       "[MoleculeData(f_atoms=[8, 83], f_bonds=[14, 14], a2b=[8], b2a=[14], a_scope=[1], b_scope=[1], y=[1], bonds=[7, 2], smiles='[H]OC(=C=O)C([H])=O', b2revb=[14], name='kfir_rxn_10218_r1h', comp_type='donor', idx=0),\n",
       " MoleculeData(f_atoms=[7, 83], f_bonds=[14, 14], a2b=[7], b2a=[14], a_scope=[1], b_scope=[1], y=[1], bonds=[7, 2], smiles='[H]C1([H])OC1([H])[H]', b2revb=[14], name='kfir_rxn_10218_r2h', comp_type='acceptor', idx=0)]"
      ]
     },
     "execution_count": 6,
     "metadata": {},
     "output_type": "execute_result"
    }
   ],
   "source": [
    "m_dataset[0]"
   ]
  },
  {
   "cell_type": "code",
   "execution_count": 7,
   "metadata": {},
   "outputs": [
    {
     "name": "stdout",
     "output_type": "stream",
     "text": [
      "Sample 0 - Donor: mean 1.0646, std 11.3712\n",
      "Sample 0 - Acceptor: mean 0.6732, std 6.5360\n",
      "Sample 1 - Donor: mean 0.9806, std 9.4655\n",
      "Sample 1 - Acceptor: mean 1.0134, std 10.9685\n",
      "Sample 2 - Donor: mean 0.9597, std 10.1729\n",
      "Sample 2 - Acceptor: mean 0.8289, std 8.9455\n",
      "Sample 3 - Donor: mean 1.0524, std 10.1545\n",
      "Sample 3 - Acceptor: mean 0.8322, std 9.0146\n",
      "Sample 4 - Donor: mean 1.1392, std 11.2162\n",
      "Sample 4 - Acceptor: mean 0.7910, std 7.7848\n",
      "Sample 5 - Donor: mean 0.8996, std 8.6758\n",
      "Sample 5 - Acceptor: mean 0.8320, std 8.2079\n",
      "Sample 6 - Donor: mean 0.7306, std 7.0069\n",
      "Sample 6 - Acceptor: mean 0.9775, std 10.2312\n",
      "Sample 7 - Donor: mean 1.1204, std 11.6570\n",
      "Sample 7 - Acceptor: mean 1.1364, std 10.8050\n",
      "Sample 8 - Donor: mean 0.9006, std 8.6678\n",
      "Sample 8 - Acceptor: mean 0.6869, std 7.2078\n",
      "Sample 9 - Donor: mean 1.0239, std 9.9457\n",
      "Sample 9 - Acceptor: mean 0.7953, std 7.8723\n"
     ]
    }
   ],
   "source": [
    "def check_feature_variance(dataset):\n",
    "    for i, (donor, acceptor) in enumerate(dataset):\n",
    "        donor_features = donor.f_atoms\n",
    "        acceptor_features = acceptor.f_atoms\n",
    "        print(f\"Sample {i} - Donor: mean {donor_features.mean().item():.4f}, std {donor_features.std().item():.4f}\")\n",
    "        print(f\"Sample {i} - Acceptor: mean {acceptor_features.mean().item():.4f}, std {acceptor_features.std().item():.4f}\")\n",
    "\n",
    "check_feature_variance(m_dataset[:10])\n"
   ]
  },
  {
   "cell_type": "code",
   "execution_count": 8,
   "metadata": {},
   "outputs": [
    {
     "name": "stdout",
     "output_type": "stream",
     "text": [
      "tensor([2.3680e-01, 0.0000e+00, 0.0000e+00, 0.0000e+00, 0.0000e+00, 2.1104e-01,\n",
      "        2.5136e-02, 3.4441e-02, 2.4990e-04, 0.0000e+00, 0.0000e+00, 0.0000e+00,\n",
      "        0.0000e+00, 0.0000e+00, 0.0000e+00, 1.9383e-02, 9.1567e-04, 0.0000e+00,\n",
      "        0.0000e+00, 0.0000e+00, 0.0000e+00, 0.0000e+00, 0.0000e+00, 0.0000e+00,\n",
      "        0.0000e+00, 0.0000e+00, 0.0000e+00, 0.0000e+00, 0.0000e+00, 0.0000e+00,\n",
      "        0.0000e+00, 0.0000e+00, 0.0000e+00, 0.0000e+00, 0.0000e+00, 0.0000e+00,\n",
      "        0.0000e+00, 0.0000e+00, 0.0000e+00, 2.3235e-01, 8.0747e-02, 8.9987e-02,\n",
      "        1.4667e-01, 0.0000e+00, 0.0000e+00, 0.0000e+00, 3.3317e-04, 3.3317e-04,\n",
      "        0.0000e+00, 6.6611e-04, 0.0000e+00, 5.8258e-03, 3.5423e-03, 2.2999e-03,\n",
      "        0.0000e+00, 0.0000e+00, 0.0000e+00, 0.0000e+00, 0.0000e+00, 0.0000e+00,\n",
      "        0.0000e+00, 0.0000e+00, 2.3680e-01, 3.0997e-02, 1.1513e-01, 0.0000e+00,\n",
      "        1.7177e-01, 0.0000e+00, 0.0000e+00, 0.0000e+00, 3.1101e-02, 4.5738e-03,\n",
      "        4.7668e-02, 4.7668e-02, 4.7668e-02, 4.7668e-02, 1.2646e+00, 2.0054e+03,\n",
      "        2.9606e-01, 5.2919e-01, 9.0298e-02, 1.6045e-01, 2.0883e-01])\n"
     ]
    }
   ],
   "source": [
    "def compute_feature_variance(dataset):\n",
    "    all_features = []\n",
    "    for donor, acceptor in dataset:\n",
    "        all_features.append(donor.f_atoms)\n",
    "        all_features.append(acceptor.f_atoms)\n",
    "    all_features = torch.cat(all_features, dim=0)\n",
    "    return all_features.var(dim=0)\n",
    "\n",
    "feature_variances = compute_feature_variance(m_dataset)\n",
    "print(feature_variances)\n"
   ]
  },
  {
   "cell_type": "code",
   "execution_count": 9,
   "metadata": {},
   "outputs": [
    {
     "name": "stdout",
     "output_type": "stream",
     "text": [
      "Molecule Type:  donor\n",
      " acceptor  | a_hydrogen |  donator   | d_hydrogen\n",
      "--------------------------------------------------\n",
      "\n",
      "\n",
      "\n",
      "\n",
      "\n",
      "\n",
      "\n",
      "\n",
      "Molecule Type:  acceptor\n",
      " acceptor  | a_hydrogen |  donator   | d_hydrogen\n",
      "--------------------------------------------------\n",
      "\n",
      "\n",
      "\n",
      "\n",
      "\n",
      "\n",
      "\n"
     ]
    }
   ],
   "source": [
    "# Check that the first molecule pair have marked heavy and hydrogen acceptors and donors\n",
    "last_4_names = [\"acceptor\", \"a_hydrogen\", \"donator\", \"d_hydrogen\"]\n",
    "l4_cols = m_dataset[0][0].f_atoms[:, 133:137].numpy()\n",
    "l4_cols = m_dataset[0][0].f_atoms[:, 133:137].numpy()\n",
    "# Print header\n",
    "print(\"Molecule Type: \", m_dataset[0][0].comp_type)\n",
    "print(' | '.join(f'{name:^10}' for name in last_4_names))\n",
    "print('-' * 50)\n",
    "for row in l4_cols:\n",
    "    print(' | '.join(f'{val:10.3f}' for val in row))\n",
    "\n",
    "l4_cols = m_dataset[0][1].f_atoms[:, 133:137].numpy()\n",
    "# Print header\n",
    "print(\"Molecule Type: \", m_dataset[0][1].comp_type)\n",
    "print(' | '.join(f'{name:^10}' for name in last_4_names))\n",
    "print('-' * 50)\n",
    "for row in l4_cols:\n",
    "    print(' | '.join(f'{val:10.3f}' for val in row))\n"
   ]
  },
  {
   "cell_type": "code",
   "execution_count": 10,
   "metadata": {},
   "outputs": [
    {
     "name": "stdout",
     "output_type": "stream",
     "text": [
      "Molecule Type:  donor\n",
      "    R      |     A      |    Dsin    |    Dcos    |   has_R    |   has_A    |   has_D   \n",
      "--------------------------------------------------\n",
      "     0.800 |      0.000 |      0.000 |      1.000 |      1.000 |      0.000 |      0.000\n",
      "     1.335 |    109.393 |      0.000 |      1.000 |      1.000 |      1.000 |      0.000\n",
      "     1.348 |    120.822 |     -0.999 |     -0.040 |      1.000 |      1.000 |      1.000\n",
      "     1.146 |    178.105 |      1.000 |     -0.014 |      1.000 |      1.000 |      1.000\n",
      "     3.413 |     22.407 |      0.999 |      0.035 |      1.000 |      1.000 |      1.000\n",
      "     1.206 |    163.758 |      0.206 |      0.979 |      1.000 |      1.000 |      1.000\n",
      "     2.021 |     27.879 |      0.206 |     -0.978 |      1.000 |      1.000 |      1.000\n",
      "     0.000 |      0.000 |      0.000 |      1.000 |      0.000 |      0.000 |      0.000\n",
      "Molecule Type:  acceptor\n",
      "    R      |     A      |    Dsin    |    Dcos    |   has_R    |   has_A    |   has_D   \n",
      "--------------------------------------------------\n",
      "     0.800 |      0.000 |      0.000 |      1.000 |      1.000 |      0.000 |      0.000\n",
      "     1.452 |     71.127 |     -0.893 |      0.450 |      1.000 |      1.000 |      1.000\n",
      "     1.364 |    110.485 |      0.000 |      1.000 |      1.000 |      1.000 |      0.000\n",
      "     0.000 |      0.000 |      0.000 |      1.000 |      0.000 |      0.000 |      0.000\n",
      "     2.298 |     64.467 |      0.389 |      0.921 |      1.000 |      1.000 |      1.000\n",
      "     3.174 |     13.551 |     -0.987 |     -0.160 |      1.000 |      1.000 |      1.000\n",
      "     1.856 |     57.837 |     -0.351 |      0.936 |      1.000 |      1.000 |      1.000\n"
     ]
    }
   ],
   "source": [
    "# Check that the first molecule pair have marked heavy and hydrogen acceptors and donors\n",
    "last_4_names = [\"R\", \"A\", \"Dsin\", \"Dcos\", \"has_R\", \"has_A\", \"has_D\"]\n",
    "l4_cols = m_dataset[0][0].f_atoms[:, -7:].numpy()\n",
    "# Print header\n",
    "print(\"Molecule Type: \", m_dataset[0][0].comp_type)\n",
    "print(' | '.join(f'{name:^10}' for name in last_4_names))\n",
    "print('-' * 50)\n",
    "for row in l4_cols:\n",
    "    print(' | '.join(f'{val:10.3f}' for val in row))\n",
    "\n",
    "l4_cols = m_dataset[0][1].f_atoms[:, -7:].numpy()\n",
    "# Print header\n",
    "print(\"Molecule Type: \", m_dataset[0][1].comp_type)\n",
    "print(' | '.join(f'{name:^10}' for name in last_4_names))\n",
    "print('-' * 50)\n",
    "for row in l4_cols:\n",
    "    print(' | '.join(f'{val:10.3f}' for val in row))\n"
   ]
  },
  {
   "cell_type": "code",
   "execution_count": 11,
   "metadata": {},
   "outputs": [],
   "source": [
    "splitter = KennardStoneSplitter(seed=42, component='joint', distance_mode='mean', distance_metric='euclidean')\n"
   ]
  },
  {
   "cell_type": "code",
   "execution_count": 12,
   "metadata": {},
   "outputs": [
    {
     "name": "stdout",
     "output_type": "stream",
     "text": [
      "Distance matrix shape: (1807, 1807)\n",
      "Distance matrix min/max: 0.0 471.3003\n",
      "Distance matrix diagonal: [0.0000000e+00 0.0000000e+00 2.6973983e-06 1.9073486e-06 1.9073486e-06\n",
      " 0.0000000e+00 0.0000000e+00 0.0000000e+00 0.0000000e+00 0.0000000e+00]\n"
     ]
    }
   ],
   "source": [
    "train_ds, val_ds, test_ds, train_idx, val_idx, test_idx, order = splitter.split(\n",
    "    dataset=m_dataset,\n",
    "    train_frac=0.6,\n",
    "    val_frac=0.2,\n",
    "    test_frac=0.2,\n",
    "    return_indices=True,\n",
    "    return_order=True,\n",
    ")"
   ]
  },
  {
   "cell_type": "code",
   "execution_count": 13,
   "metadata": {},
   "outputs": [],
   "source": [
    "# from cmpnn.split.random import RandomSplitter\n",
    "# splitter = RandomSplitter(seed=42)\n",
    "# train_ds, val_ds, test_ds, train_idx, val_idx, test_idx, order = splitter.split(\n",
    "#     dataset=m_dataset,\n",
    "#     train_frac=0.6,\n",
    "#     val_frac=0.2,\n",
    "#     test_frac=0.2,\n",
    "#     return_indices=True,\n",
    "#     return_order=True,\n",
    "# )"
   ]
  },
  {
   "cell_type": "code",
   "execution_count": 14,
   "metadata": {},
   "outputs": [
    {
     "name": "stdout",
     "output_type": "stream",
     "text": [
      "dataset fitted? False\n",
      "dataset fitted? True\n"
     ]
    }
   ],
   "source": [
    "print(\"dataset fitted?\", m_dataset.normalizer_fitted)\n",
    "m_dataset.fit_normalizer_from_indices(train_idx)\n",
    "\n",
    "# Apply to all splits\n",
    "m_dataset.transform_y_from_indices(train_idx + val_idx + test_idx)\n",
    "print(\"dataset fitted?\", m_dataset.normalizer_fitted)"
   ]
  },
  {
   "cell_type": "code",
   "execution_count": 15,
   "metadata": {},
   "outputs": [
    {
     "name": "stdout",
     "output_type": "stream",
     "text": [
      "tensor([-0.1070,  0.9943])\n",
      "tensor([-0.1070,  0.9943])\n"
     ]
    }
   ],
   "source": [
    "print(m_dataset[0][0].y)\n",
    "print(m_dataset[0][1].y)"
   ]
  },
  {
   "cell_type": "code",
   "execution_count": 16,
   "metadata": {},
   "outputs": [],
   "source": [
    "m_dataset.fit_atom_feature_normalizer_from_indices(train_idx)\n",
    "m_dataset.transform_all_f_atoms()"
   ]
  },
  {
   "cell_type": "code",
   "execution_count": 17,
   "metadata": {},
   "outputs": [
    {
     "data": {
      "text/plain": [
       "tensor([[-0.5682,  0.6633,  0.0000,  1.0000,  1.0000,  1.0000,  0.0000],\n",
       "        [-1.2664,  0.0000,  0.0000,  1.0000,  1.0000,  0.0000,  0.0000],\n",
       "        [-0.9720,  1.5800, -0.0403,  0.9992,  1.0000,  1.0000,  1.0000],\n",
       "        [-0.3052, -1.2589, -0.8463, -0.5328,  1.0000,  1.0000,  1.0000],\n",
       "        [-0.3064, -0.5856, -0.6161,  0.7877,  1.0000,  1.0000,  1.0000],\n",
       "        [ 1.0235, -0.7279,  0.9377,  0.3476,  1.0000,  1.0000,  1.0000],\n",
       "        [-0.2595, -0.7358,  0.0305, -0.9995,  1.0000,  1.0000,  1.0000],\n",
       "        [ 0.0000,  0.0000,  0.0000,  1.0000,  0.0000,  0.0000,  0.0000]])"
      ]
     },
     "execution_count": 17,
     "metadata": {},
     "output_type": "execute_result"
    }
   ],
   "source": [
    "train_ds[0][0].f_atoms[:, -7:]"
   ]
  },
  {
   "cell_type": "code",
   "execution_count": 18,
   "metadata": {},
   "outputs": [
    {
     "data": {
      "text/plain": [
       "tensor([[-1.2664,  0.0000,  0.0000,  1.0000,  1.0000,  0.0000,  0.0000],\n",
       "        [-0.5902,  1.0503,  0.0000,  1.0000,  1.0000,  1.0000,  0.0000],\n",
       "        [-0.5332,  0.7628,  0.9475, -0.3198,  1.0000,  1.0000,  1.0000],\n",
       "        [ 1.1208, -1.1049, -0.4155,  0.9096,  1.0000,  1.0000,  1.0000],\n",
       "        [ 1.0081, -1.1528,  0.2959,  0.9552,  1.0000,  1.0000,  1.0000],\n",
       "        [-0.3104, -0.7154, -0.9556,  0.2947,  1.0000,  1.0000,  1.0000],\n",
       "        [ 0.9918, -0.7563,  0.9711,  0.2387,  1.0000,  1.0000,  1.0000],\n",
       "        [-0.2986, -0.7056, -0.0052, -1.0000,  1.0000,  1.0000,  1.0000],\n",
       "        [-0.3011, -0.5831, -0.9066,  0.4221,  1.0000,  1.0000,  1.0000],\n",
       "        [ 0.0000,  0.0000,  0.0000,  1.0000,  0.0000,  0.0000,  0.0000]])"
      ]
     },
     "execution_count": 18,
     "metadata": {},
     "output_type": "execute_result"
    }
   ],
   "source": [
    "test_ds[0][0].f_atoms[:, -7:]"
   ]
  },
  {
   "cell_type": "code",
   "execution_count": 19,
   "metadata": {},
   "outputs": [],
   "source": [
    "import numpy as np\n",
    "import torch\n",
    "from torch.utils.data import DataLoader, WeightedRandomSampler\n",
    "\n",
    "bins = np.linspace(-180, +180, 37)\n",
    "\n",
    "# Get the y values from train_ds\n",
    "y_train = []\n",
    "for datapoint in train_ds:\n",
    "    molecule = datapoint[0]  # assuming first molecule in multimol\n",
    "    cos_val, sin_val = molecule.y[0], molecule.y[1]\n",
    "    y_train.append((cos_val, sin_val))\n",
    "y_train = torch.tensor(y_train)\n",
    "\n",
    "# Change y train to theta\n",
    "# Now need to transform the y_train (cos, sin) to the degrees\n",
    "theta_train = torch.atan2(y_train[:, 1], y_train[:, 0])  # in radians\n",
    "theta_train = torch.rad2deg(theta_train)  # convert to degrees\n",
    "# Wrap into [-180, 180]\n",
    "theta_train = (theta_train + 180) % 360 - 180\n",
    "\n",
    "bin_ids = np.digitize(theta_train, bins) - 1  # 0..35\n",
    "\n",
    "# count samples per bin\n",
    "counts = np.bincount(bin_ids, minlength=len(bins)-1)\n",
    "# avoid div0\n",
    "counts = np.where(counts==0, 1, counts)\n",
    "# weight = 1/count → normalize\n",
    "weights = 1.0 / counts[bin_ids]\n",
    "weights = torch.as_tensor(weights, dtype=torch.double)\n",
    "\n",
    "sampler = WeightedRandomSampler(weights, num_samples=len(weights), replacement=True)\n",
    "\n",
    "train_loader = DataLoader(\n",
    "    train_ds,\n",
    "    batch_size=128,\n",
    "    sampler=sampler,\n",
    "    collate_fn=multimol_collate_fn\n",
    ")"
   ]
  },
  {
   "cell_type": "code",
   "execution_count": 20,
   "metadata": {},
   "outputs": [],
   "source": [
    "#train_loader = DataLoader(train_ds, batch_size=128, shuffle=True, collate_fn=multimol_collate_fn)\n",
    "val_loader = DataLoader(val_ds, batch_size=64, shuffle=False, collate_fn=multimol_collate_fn)\n",
    "test_loader = DataLoader(test_ds, batch_size=64, shuffle=False, collate_fn=multimol_collate_fn)"
   ]
  },
  {
   "cell_type": "code",
   "execution_count": 21,
   "metadata": {},
   "outputs": [],
   "source": [
    "# Select 40 data points from the training set\n",
    "# train_ds_small = torch.utils.data.Subset(train_ds, range(200))\n",
    "\n",
    "# train_loader = DataLoader(train_ds_small, batch_size=32, shuffle=True, collate_fn=multimol_collate_fn)\n",
    "# theta_true_list = []\n",
    "# for datapoint in train_ds_small:\n",
    "#     molecule = datapoint[0]  # assuming first molecule in pair\n",
    "#     cos_val, sin_val = molecule.y[0], molecule.y[1]\n",
    "#     theta = torch.atan2(sin_val, cos_val)  # recover angle in radians\n",
    "#     theta_true_list.append(theta)\n",
    "\n",
    "# # Stack them into a tensor\n",
    "# theta_true = torch.stack(theta_true_list)  # shape (40,)\n",
    "\n",
    "# # import numpy as np\n",
    "# import torch\n",
    "# import copy\n",
    "\n",
    "# # Generate clean base angles\n",
    "# theta_true = torch.linspace(-np.pi, np.pi, steps=40)  # 20 torsions\n",
    "\n",
    "# # # 🔥 ADD JIGGLES HERE 🔥\n",
    "# # theta_true += (10 * np.pi / 180) * torch.randn_like(theta_true)\n",
    "\n",
    "# # Augment: add +360 deg equivalents\n",
    "# theta_true_aug = torch.cat([\n",
    "#     theta_true,\n",
    "#     theta_true + 2 * np.pi\n",
    "# ], dim=0)\n",
    "# theta_true_aug = (theta_true_aug + np.pi) % (2 * np.pi) - np.pi  # wrap into [-π, π]\n",
    "\n",
    "# # Now generate cos/sin AFTER augmentation\n",
    "# x_fake_aug = torch.stack([torch.cos(theta_true_aug), torch.sin(theta_true_aug)], dim=1)  # (40, 2)\n",
    "\n",
    "# # Rebuild bigger fake dataset\n",
    "# augmented_train_ds = []\n",
    "# for i in range(len(x_fake_aug)):\n",
    "#     datapoint = train_ds[i]\n",
    "\n",
    "#     new_datapoint = copy.deepcopy(datapoint)\n",
    "#     for molecule in new_datapoint:\n",
    "#         molecule.y = x_fake_aug[i]  # Assign fake torsion\n",
    "#     augmented_train_ds.append(new_datapoint)\n",
    "\n",
    "# # New DataLoader\n",
    "# train_loader = DataLoader(augmented_train_ds, batch_size=16, shuffle=False, collate_fn=multimol_collate_fn)\n"
   ]
  },
  {
   "cell_type": "code",
   "execution_count": 22,
   "metadata": {},
   "outputs": [],
   "source": [
    "theta_true_list = []\n",
    "for datapoint in train_ds:\n",
    "    molecule = datapoint[0]  # assuming first molecule in multimol\n",
    "    cos_val, sin_val = molecule.y[0], molecule.y[1]\n",
    "    theta = torch.atan2(sin_val, cos_val)  # in radians\n",
    "    theta_true_list.append(theta)\n",
    "\n",
    "theta_true = torch.tensor(theta_true_list)\n"
   ]
  },
  {
   "cell_type": "code",
   "execution_count": 23,
   "metadata": {},
   "outputs": [
    {
     "data": {
      "text/plain": [
       "1084"
      ]
     },
     "execution_count": 23,
     "metadata": {},
     "output_type": "execute_result"
    }
   ],
   "source": [
    "len(theta_true)"
   ]
  },
  {
   "cell_type": "code",
   "execution_count": 24,
   "metadata": {},
   "outputs": [],
   "source": [
    "# from torch.utils.data import random_split\n",
    "\n",
    "# # Split 75% train, 25% val\n",
    "# train_size = int(0.75 * len(train_ds_small))\n",
    "# val_size = len(train_ds_small) - train_size\n",
    "# train_ds_split, val_ds_split = random_split(train_ds_small, [train_size, val_size])\n",
    "\n",
    "# # For curriculum jiggle: recover base torsions for train only\n",
    "# theta_true_list = []\n",
    "# for datapoint in train_ds_split:\n",
    "#     molecule = datapoint[0]  # assuming first molecule in multimol\n",
    "#     cos_val, sin_val = molecule.y[0], molecule.y[1]\n",
    "#     theta = torch.atan2(sin_val, cos_val)  # in radians\n",
    "#     theta_true_list.append(theta)\n",
    "\n",
    "# theta_true = torch.tensor(theta_true_list)\n",
    "\n",
    "# # New DataLoaders\n",
    "# train_loader = DataLoader(train_ds_split, batch_size=32, shuffle=True, collate_fn=multimol_collate_fn)\n",
    "# val_loader = DataLoader(val_ds_split, batch_size=32, shuffle=False, collate_fn=multimol_collate_fn)\n"
   ]
  },
  {
   "cell_type": "code",
   "execution_count": 25,
   "metadata": {},
   "outputs": [
    {
     "name": "stdout",
     "output_type": "stream",
     "text": [
      "Matching donor and acceptor indices: 0\n",
      "Matching donor and acceptor indices: 1\n",
      "Matching donor and acceptor indices: 2\n",
      "Matching donor and acceptor indices: 3\n",
      "Matching donor and acceptor indices: 4\n",
      "Matching donor and acceptor indices: 5\n",
      "Matching donor and acceptor indices: 6\n",
      "Matching donor and acceptor indices: 7\n",
      "Matching donor and acceptor indices: 8\n",
      "Matching donor and acceptor indices: 9\n",
      "Matching donor and acceptor indices: 10\n",
      "Matching donor and acceptor indices: 11\n",
      "Matching donor and acceptor indices: 12\n",
      "Matching donor and acceptor indices: 13\n",
      "Matching donor and acceptor indices: 14\n",
      "Matching donor and acceptor indices: 15\n",
      "Matching donor and acceptor indices: 16\n",
      "Matching donor and acceptor indices: 17\n",
      "Matching donor and acceptor indices: 18\n",
      "Matching donor and acceptor indices: 19\n",
      "Matching donor and acceptor indices: 20\n",
      "Matching donor and acceptor indices: 21\n",
      "Matching donor and acceptor indices: 22\n",
      "Matching donor and acceptor indices: 23\n",
      "Matching donor and acceptor indices: 24\n",
      "Matching donor and acceptor indices: 25\n",
      "Matching donor and acceptor indices: 26\n",
      "Matching donor and acceptor indices: 27\n",
      "Matching donor and acceptor indices: 28\n",
      "Matching donor and acceptor indices: 29\n",
      "Matching donor and acceptor indices: 30\n",
      "Matching donor and acceptor indices: 31\n",
      "Matching donor and acceptor indices: 32\n",
      "Matching donor and acceptor indices: 33\n",
      "Matching donor and acceptor indices: 34\n",
      "Matching donor and acceptor indices: 35\n",
      "Matching donor and acceptor indices: 36\n",
      "Matching donor and acceptor indices: 37\n",
      "Matching donor and acceptor indices: 38\n",
      "Matching donor and acceptor indices: 39\n",
      "Matching donor and acceptor indices: 40\n",
      "Matching donor and acceptor indices: 41\n",
      "Matching donor and acceptor indices: 42\n",
      "Matching donor and acceptor indices: 43\n",
      "Matching donor and acceptor indices: 44\n",
      "Matching donor and acceptor indices: 45\n",
      "Matching donor and acceptor indices: 46\n",
      "Matching donor and acceptor indices: 47\n",
      "Matching donor and acceptor indices: 48\n",
      "Matching donor and acceptor indices: 49\n",
      "Matching donor and acceptor indices: 50\n",
      "Matching donor and acceptor indices: 51\n",
      "Matching donor and acceptor indices: 52\n",
      "Matching donor and acceptor indices: 53\n",
      "Matching donor and acceptor indices: 54\n",
      "Matching donor and acceptor indices: 55\n",
      "Matching donor and acceptor indices: 56\n",
      "Matching donor and acceptor indices: 57\n",
      "Matching donor and acceptor indices: 58\n",
      "Matching donor and acceptor indices: 59\n",
      "Matching donor and acceptor indices: 60\n",
      "Matching donor and acceptor indices: 61\n",
      "Matching donor and acceptor indices: 62\n",
      "Matching donor and acceptor indices: 63\n",
      "Matching donor and acceptor indices: 64\n",
      "Matching donor and acceptor indices: 65\n",
      "Matching donor and acceptor indices: 66\n",
      "Matching donor and acceptor indices: 67\n",
      "Matching donor and acceptor indices: 68\n",
      "Matching donor and acceptor indices: 69\n",
      "Matching donor and acceptor indices: 70\n",
      "Matching donor and acceptor indices: 71\n",
      "Matching donor and acceptor indices: 72\n",
      "Matching donor and acceptor indices: 73\n",
      "Matching donor and acceptor indices: 74\n",
      "Matching donor and acceptor indices: 75\n",
      "Matching donor and acceptor indices: 76\n",
      "Matching donor and acceptor indices: 77\n",
      "Matching donor and acceptor indices: 78\n",
      "Matching donor and acceptor indices: 79\n",
      "Matching donor and acceptor indices: 80\n",
      "Matching donor and acceptor indices: 81\n",
      "Matching donor and acceptor indices: 82\n",
      "Matching donor and acceptor indices: 83\n",
      "Matching donor and acceptor indices: 84\n",
      "Matching donor and acceptor indices: 85\n",
      "Matching donor and acceptor indices: 86\n",
      "Matching donor and acceptor indices: 87\n",
      "Matching donor and acceptor indices: 88\n",
      "Matching donor and acceptor indices: 89\n",
      "Matching donor and acceptor indices: 90\n",
      "Matching donor and acceptor indices: 91\n",
      "Matching donor and acceptor indices: 92\n",
      "Matching donor and acceptor indices: 93\n",
      "Matching donor and acceptor indices: 94\n",
      "Matching donor and acceptor indices: 95\n",
      "Matching donor and acceptor indices: 96\n",
      "Matching donor and acceptor indices: 97\n",
      "Matching donor and acceptor indices: 98\n",
      "Matching donor and acceptor indices: 99\n",
      "Matching donor and acceptor indices: 100\n",
      "Matching donor and acceptor indices: 101\n",
      "Matching donor and acceptor indices: 102\n",
      "Matching donor and acceptor indices: 103\n",
      "Matching donor and acceptor indices: 104\n",
      "Matching donor and acceptor indices: 105\n",
      "Matching donor and acceptor indices: 106\n",
      "Matching donor and acceptor indices: 107\n",
      "Matching donor and acceptor indices: 108\n",
      "Matching donor and acceptor indices: 109\n",
      "Matching donor and acceptor indices: 110\n",
      "Matching donor and acceptor indices: 111\n",
      "Matching donor and acceptor indices: 112\n",
      "Matching donor and acceptor indices: 113\n",
      "Matching donor and acceptor indices: 114\n",
      "Matching donor and acceptor indices: 115\n",
      "Matching donor and acceptor indices: 116\n",
      "Matching donor and acceptor indices: 117\n",
      "Matching donor and acceptor indices: 118\n",
      "Matching donor and acceptor indices: 119\n",
      "Matching donor and acceptor indices: 120\n",
      "Matching donor and acceptor indices: 121\n",
      "Matching donor and acceptor indices: 122\n",
      "Matching donor and acceptor indices: 123\n",
      "Matching donor and acceptor indices: 124\n",
      "Matching donor and acceptor indices: 125\n",
      "Matching donor and acceptor indices: 126\n",
      "Matching donor and acceptor indices: 127\n"
     ]
    }
   ],
   "source": [
    "for batch in train_loader:\n",
    "    for donor_idx, acceptor_idx in zip(batch.donor.idx, batch.acceptor.idx):\n",
    "        assert donor_idx == acceptor_idx, f\"Mismatch: donor {donor_idx} vs acceptor {acceptor_idx}\"\n",
    "        print(f\"Matching donor and acceptor indices: {donor_idx}\")\n",
    "    break  # Just to check the first batch\n"
   ]
  },
  {
   "cell_type": "code",
   "execution_count": 26,
   "metadata": {},
   "outputs": [
    {
     "data": {
      "text/plain": [
       "torch.Size([1084])"
      ]
     },
     "execution_count": 26,
     "metadata": {},
     "output_type": "execute_result"
    }
   ],
   "source": [
    "theta_true.shape"
   ]
  },
  {
   "cell_type": "code",
   "execution_count": 27,
   "metadata": {},
   "outputs": [
    {
     "data": {
      "text/plain": [
       "[MoleculeData(f_atoms=[8, 83], f_bonds=[14, 14], a2b=[8], b2a=[14], a_scope=[1], b_scope=[1], y=[2], bonds=[7, 2], smiles='[H]C([H])([H])C([H])([H])[H]', b2revb=[14], name='rxn_1523_r1h', comp_type='donor', idx=1051),\n",
       " MoleculeData(f_atoms=[21, 83], f_bonds=[42, 14], a2b=[21], b2a=[42], a_scope=[1], b_scope=[1], y=[2], bonds=[21, 2], smiles='[H]c1c([H])c([H])c(C([H])(C([H])([H])[H])C([H])([H])[H])c([H])c1[H]', b2revb=[42], name='rxn_1523_r2h', comp_type='acceptor', idx=1051)]"
      ]
     },
     "execution_count": 27,
     "metadata": {},
     "output_type": "execute_result"
    }
   ],
   "source": [
    "train_ds[0]"
   ]
  },
  {
   "cell_type": "code",
   "execution_count": 76,
   "metadata": {},
   "outputs": [
    {
     "name": "stdout",
     "output_type": "stream",
     "text": [
      "MultiCMPNNLightningModuleClean(\n",
      "  (atom_feature_bottleneck): Identity()\n",
      "  (encoders): ModuleList(\n",
      "    (0-1): 2 x CMPNNEncoder(\n",
      "      comm_mode=add, booster=sum\n",
      "        (dropout_layer): Dropout(p=0.3, inplace=False)\n",
      "        (act_func): ReLU()\n",
      "        (W_i_atom): Linear(in_features=83, out_features=64, bias=False)\n",
      "        (W_i_bond): Linear(in_features=14, out_features=64, bias=False)\n",
      "        (W_o): Linear(in_features=128, out_features=64, bias=False)\n",
      "        (lr): Linear(in_features=192, out_features=64, bias=False)\n",
      "        (gru): BatchGRU(\n",
      "          (gru): GRU(64, 64, batch_first=True, bidirectional=True)\n",
      "        )\n",
      "        (bn_atom): BatchNorm1d(64, eps=1e-05, momentum=0.1, affine=True, track_running_stats=True)\n",
      "        (bn_bond): BatchNorm1d(64, eps=1e-05, momentum=0.1, affine=True, track_running_stats=True)\n",
      "        (W_h_bn): ModuleList(\n",
      "          (0): BatchNorm1d(64, eps=1e-05, momentum=0.1, affine=True, track_running_stats=True)\n",
      "        )\n",
      "      )\n",
      "  )\n",
      "  (bond_projections): ModuleList(\n",
      "    (0-1): 2 x MLP(input_dim=14, output_dim=64, hidden_dim=64, n_layers=2, dropout=0.3)\n",
      "  )\n",
      "  (aggregator): MeanAggregator()\n",
      "  (bn): BatchNorm1d(128, eps=1e-05, momentum=0.1, affine=True, track_running_stats=True)\n",
      "  (ffn): DeepPeriodicHead(input_dim=256, n_blocks=10)\n",
      "  (metrics): ModuleDict(\n",
      "    (purecosineloss): PureCosineLoss()\n",
      "    (hybridangularloss): HybridAngularLoss()\n",
      "    (anglemaeloss): AngleMAELoss()\n",
      "    (angularhuberloss): AngularHuberLoss()\n",
      "    (periodiclossmse): PeriodicLossMSE()\n",
      "    (periodiclossmae): PeriodicLossMAE()\n",
      "    (periodiclossrmse): PeriodicLossRMSE()\n",
      "    (periodiclossr2): PeriodicLossR2()\n",
      "  )\n",
      "  (loss_fn_): PureCosineLoss()\n",
      ")\n"
     ]
    }
   ],
   "source": [
    "from cmpnn.models.lightning import MultiCMPNNLightningModuleClean\n",
    "from cmpnn.models.ffns import LogGaussianHead, PeriodicHead, AngularHuberHead, MLP, DeepPeriodicHead\n",
    "from cmpnn.loss.composite_loss import CompositeLoss\n",
    "from cmpnn.loss.periodic_loss import PeriodicLossMAE, PeriodicLossRMSE, PeriodicLossMSE, PeriodicLossR2, AngularHuberLoss, PeriodicLossVonMises, AngleMAELoss, HybridAngularLoss, PureCosineLoss\n",
    "from cmpnn.loss.continous_loss import ContinuousLossMAE, ContinuousLossRMSE, ContinuousLossMSE, ContinuousLossR2\n",
    "import torch\n",
    "\n",
    "torch.cuda.empty_cache()  # If you were using CUDA\n",
    "torch._C._cuda_emptyCache()  # Sometimes frees more aggressively (works in HIP/ROCm as well)\n",
    "\n",
    "torch.cuda.ipc_collect()\n",
    "\n",
    "model = MultiCMPNNLightningModuleClean(\n",
    "    atom_fdim=83,\n",
    "    bond_fdim=14,\n",
    "    global_fdim=0,\n",
    "    shared_encoder=True,\n",
    "    booster='sum',\n",
    "    comm_mode='add',\n",
    "    aggregator='mean',\n",
    "    n_components=2,\n",
    "    atom_messages=True,\n",
    "    depth=2,\n",
    "    output_size=1,\n",
    "    hidden_dim=64,\n",
    "    dropout=0.3,\n",
    "    activation='relu',\n",
    "    bias=False,\n",
    "    optimizer_class=torch.optim.AdamW,\n",
    "    optimizer_params={\"weight_decay\": 1e-2},\n",
    "learning_rate=1e-6,\n",
    "    dynamic_depth=None,\n",
    "    use_atom_residual=False,\n",
    "    use_bond_residual=True,\n",
    "    metrics=[PureCosineLoss(), HybridAngularLoss(),AngleMAELoss(boost_threshold_deg=90, boost_weight=2.0),AngularHuberLoss(beta=5.0, unit_weight=0.01), PeriodicLossMSE(),PeriodicLossMAE(), PeriodicLossRMSE(), PeriodicLossMSE(), PeriodicLossR2()],\n",
    "    ignore_value=-10,\n",
    "    target_normalizer=normalizer,\n",
    "    per_indices=[0,1],\n",
    "    scaled_output=False,\n",
    "    ffns= \n",
    "            #lambda input_dim: PeriodicHead(input_dim=input_dim, hidden_dim=300, n_layers=2, dropout=0.5, use_residual=True),\n",
    "            lambda input_dim: DeepPeriodicHead(input_dim=input_dim, hidden_dim=2048, n_blocks=10, dropout=0.3),\n",
    "    use_batch_norm=True,\n",
    "    base_train_ds=train_ds,\n",
    "    theta_true_aug=theta_true,\n",
    "    apply_bottleneck=False,\n",
    "    adaptive_jiggle=False,\n",
    "\n",
    ")\n",
    "    \n",
    "    # focus_target_idx=2\n",
    "print(model)"
   ]
  },
  {
   "cell_type": "code",
   "execution_count": 77,
   "metadata": {},
   "outputs": [],
   "source": [
    "def reset_model_weights(model):\n",
    "    for module in model.modules():\n",
    "        if hasattr(module, 'reset_parameters'):\n",
    "            module.reset_parameters()\n",
    "\n",
    "reset_model_weights(model)"
   ]
  },
  {
   "cell_type": "code",
   "execution_count": 78,
   "metadata": {},
   "outputs": [
    {
     "data": {
      "text/plain": [
       "tensor([-0.2963,  0.9551])"
      ]
     },
     "execution_count": 78,
     "metadata": {},
     "output_type": "execute_result"
    }
   ],
   "source": [
    "val_ds[0][0].y"
   ]
  },
  {
   "cell_type": "code",
   "execution_count": 79,
   "metadata": {},
   "outputs": [
    {
     "data": {
      "text/plain": [
       "tensor([   0,    0,    1,  ..., 1082, 1083, 1083])"
      ]
     },
     "execution_count": 79,
     "metadata": {},
     "output_type": "execute_result"
    }
   ],
   "source": [
    "model.mol_to_reaction_idx"
   ]
  },
  {
   "cell_type": "code",
   "execution_count": 80,
   "metadata": {},
   "outputs": [],
   "source": [
    "torch.cuda.empty_cache()  # If you were using CUDA"
   ]
  },
  {
   "cell_type": "code",
   "execution_count": 81,
   "metadata": {},
   "outputs": [
    {
     "name": "stderr",
     "output_type": "stream",
     "text": [
      "GPU available: True (cuda), used: True\n",
      "TPU available: False, using: 0 TPU cores\n",
      "HPU available: False, using: 0 HPUs\n"
     ]
    },
    {
     "name": "stderr",
     "output_type": "stream",
     "text": [
      "/home/calvin/miniforge3/envs/dmpnn_rocm/lib/python3.10/site-packages/pytorch_lightning/utilities/parsing.py:45: Attribute 'ffns' removed from hparams because it cannot be pickled. You can suppress this warning by setting `self.save_hyperparameters(ignore=['ffns'])`.\n",
      "/home/calvin/miniforge3/envs/dmpnn_rocm/lib/python3.10/site-packages/pytorch_lightning/callbacks/model_checkpoint.py:654: Checkpoint directory /home/calvin/code/cmpnn_revised/scripts/checkpoints exists and is not empty.\n",
      "LOCAL_RANK: 0 - CUDA_VISIBLE_DEVICES: [0]\n",
      "\n",
      "  | Name                    | Type             | Params | Mode \n",
      "---------------------------------------------------------------------\n",
      "0 | atom_feature_bottleneck | Identity         | 0      | train\n",
      "1 | encoders                | ModuleList       | 77.1 K | train\n",
      "2 | bond_projections        | ModuleList       | 18.6 K | train\n",
      "3 | aggregator              | MeanAggregator   | 0      | train\n",
      "4 | bn                      | BatchNorm1d      | 256    | train\n",
      "5 | ffn                     | DeepPeriodicHead | 143 K  | train\n",
      "6 | metrics                 | ModuleDict       | 6      | train\n",
      "7 | loss_fn_                | PureCosineLoss   | 1      | train\n",
      "---------------------------------------------------------------------\n",
      "239 K     Trainable params\n",
      "0         Non-trainable params\n",
      "239 K     Total params\n",
      "0.959     Total estimated model params size (MB)\n",
      "126       Modules in train mode\n",
      "0         Modules in eval mode\n"
     ]
    },
    {
     "data": {
      "application/vnd.jupyter.widget-view+json": {
       "model_id": "1d9caf432a0b439da08da21f56410ce3",
       "version_major": 2,
       "version_minor": 0
      },
      "text/plain": [
       "Sanity Checking: |          | 0/? [00:00<?, ?it/s]"
      ]
     },
     "metadata": {},
     "output_type": "display_data"
    },
    {
     "name": "stderr",
     "output_type": "stream",
     "text": [
      "/home/calvin/miniforge3/envs/dmpnn_rocm/lib/python3.10/site-packages/pytorch_lightning/trainer/connectors/data_connector.py:425: The 'val_dataloader' does not have many workers which may be a bottleneck. Consider increasing the value of the `num_workers` argument` to `num_workers=19` in the `DataLoader` to improve performance.\n",
      "/home/calvin/miniforge3/envs/dmpnn_rocm/lib/python3.10/site-packages/pytorch_lightning/trainer/connectors/data_connector.py:425: The 'train_dataloader' does not have many workers which may be a bottleneck. Consider increasing the value of the `num_workers` argument` to `num_workers=19` in the `DataLoader` to improve performance.\n",
      "/home/calvin/miniforge3/envs/dmpnn_rocm/lib/python3.10/site-packages/pytorch_lightning/loops/fit_loop.py:310: The number of training batches (9) is smaller than the logging interval Trainer(log_every_n_steps=20). Set a lower value for log_every_n_steps if you want to see logs for the training epoch.\n"
     ]
    },
    {
     "data": {
      "application/vnd.jupyter.widget-view+json": {
       "model_id": "c5e2bb93ba694461acede63f2801b3a6",
       "version_major": 2,
       "version_minor": 0
      },
      "text/plain": [
       "Training: |          | 0/? [00:00<?, ?it/s]"
      ]
     },
     "metadata": {},
     "output_type": "display_data"
    },
    {
     "name": "stdout",
     "output_type": "stream",
     "text": [
      "[DEBUG] Train targets sample (epoch 0): tensor([[ 0.8454,  0.5341],\n",
      "        [ 0.2842, -0.9588],\n",
      "        [-0.6175,  0.7866],\n",
      "        [-0.9891,  0.1473],\n",
      "        [-0.9957,  0.0924]], device='cuda:0')\n"
     ]
    },
    {
     "data": {
      "application/vnd.jupyter.widget-view+json": {
       "model_id": "9152e83774ee4c399471c6bfc02a4efa",
       "version_major": 2,
       "version_minor": 0
      },
      "text/plain": [
       "Validation: |          | 0/? [00:00<?, ?it/s]"
      ]
     },
     "metadata": {},
     "output_type": "display_data"
    },
    {
     "name": "stdout",
     "output_type": "stream",
     "text": [
      "Bin -180.0→-170.0: MAE=312.11°  (n=17)\n",
      "Bin -170.0→-160.0: MAE=300.91°  (n=14)\n",
      "Bin -160.0→-150.0: MAE=288.81°  (n=6)\n",
      "Bin -150.0→-140.0: MAE=277.63°  (n=5)\n",
      "Bin -140.0→-130.0: MAE=269.24°  (n=36)\n",
      "Bin -130.0→-120.0: MAE=259.11°  (n=11)\n",
      "Bin -120.0→-110.0: MAE=249.27°  (n=10)\n",
      "Bin -110.0→-100.0: MAE=238.75°  (n=15)\n",
      "Bin -100.0→ -90.0: MAE=230.21°  (n=8)\n",
      "Bin  -90.0→ -80.0: MAE=217.30°  (n=5)\n",
      "Bin  -80.0→ -70.0: MAE=208.48°  (n=11)\n",
      "Bin  -70.0→ -60.0: MAE=198.39°  (n=15)\n",
      "Bin  -60.0→ -50.0: MAE=190.06°  (n=12)\n",
      "Bin  -50.0→ -40.0: MAE=179.48°  (n=10)\n",
      "Bin  -40.0→ -30.0: MAE=167.65°  (n=17)\n",
      "Bin  -30.0→ -20.0: MAE=159.95°  (n=22)\n",
      "Bin  -20.0→ -10.0: MAE=150.73°  (n=18)\n",
      "Bin  -10.0→   0.0: MAE=137.37°  (n=38)\n",
      "Bin    0.0→  10.0: MAE=131.52°  (n=38)\n",
      "Bin   10.0→  20.0: MAE=119.91°  (n=12)\n",
      "Bin   20.0→  30.0: MAE=107.12°  (n=13)\n",
      "Bin   30.0→  40.0: MAE=100.48°  (n=23)\n",
      "Bin   40.0→  50.0: MAE=85.92°  (n=6)\n",
      "Bin   50.0→  60.0: MAE=79.42°  (n=12)\n",
      "Bin   60.0→  70.0: MAE=70.33°  (n=17)\n",
      "Bin   70.0→  80.0: MAE=59.79°  (n=13)\n",
      "Bin   80.0→  90.0: MAE=50.01°  (n=12)\n",
      "Bin   90.0→ 100.0: MAE=40.65°  (n=8)\n",
      "Bin  100.0→ 110.0: MAE=30.70°  (n=8)\n",
      "Bin  110.0→ 120.0: MAE=17.99°  (n=18)\n",
      "Bin  120.0→ 130.0: MAE=12.76°  (n=6)\n",
      "Bin  130.0→ 140.0: MAE= 2.63°  (n=5)\n",
      "Bin  140.0→ 150.0: MAE=13.30°  (n=3)\n",
      "Bin  150.0→ 160.0: MAE=20.52°  (n=5)\n",
      "Bin  160.0→ 170.0: MAE=31.61°  (n=4)\n",
      "Bin  170.0→ 180.0: MAE=44.01°  (n=16)\n",
      "[DEBUG] MAE: 93.05° | >45° Errors: 834 | >90° Errors: 570\n"
     ]
    },
    {
     "name": "stderr",
     "output_type": "stream",
     "text": [
      "/home/calvin/code/cmpnn_revised/cmpnn/models/cmpnn.py:86: FutureWarning: `torch.cuda.amp.autocast(args...)` is deprecated. Please use `torch.amp.autocast('cuda', args...)` instead.\n",
      "  with autocast(dtype=torch.float32):\n"
     ]
    },
    {
     "data": {
      "application/vnd.jupyter.widget-view+json": {
       "model_id": "026e10dadd0041e3a57ce2d1b0ae84ed",
       "version_major": 2,
       "version_minor": 0
      },
      "text/plain": [
       "Validation: |          | 0/? [00:00<?, ?it/s]"
      ]
     },
     "metadata": {},
     "output_type": "display_data"
    },
    {
     "name": "stdout",
     "output_type": "stream",
     "text": [
      "[DEBUG] MAE: 89.61° | >45° Errors: 824 | >90° Errors: 532\n"
     ]
    },
    {
     "data": {
      "application/vnd.jupyter.widget-view+json": {
       "model_id": "32dc14fd48104d6bbe1324c788dab5b1",
       "version_major": 2,
       "version_minor": 0
      },
      "text/plain": [
       "Validation: |          | 0/? [00:00<?, ?it/s]"
      ]
     },
     "metadata": {},
     "output_type": "display_data"
    },
    {
     "name": "stdout",
     "output_type": "stream",
     "text": [
      "[DEBUG] MAE: 90.83° | >45° Errors: 836 | >90° Errors: 554\n"
     ]
    },
    {
     "data": {
      "application/vnd.jupyter.widget-view+json": {
       "model_id": "51e0c2fed72743da8086a9d6a8838062",
       "version_major": 2,
       "version_minor": 0
      },
      "text/plain": [
       "Validation: |          | 0/? [00:00<?, ?it/s]"
      ]
     },
     "metadata": {},
     "output_type": "display_data"
    },
    {
     "name": "stdout",
     "output_type": "stream",
     "text": [
      "[DEBUG] MAE: 86.79° | >45° Errors: 786 | >90° Errors: 514\n"
     ]
    },
    {
     "data": {
      "application/vnd.jupyter.widget-view+json": {
       "model_id": "27bbdbc8d6884ea4b5ffe27b8eae621c",
       "version_major": 2,
       "version_minor": 0
      },
      "text/plain": [
       "Validation: |          | 0/? [00:00<?, ?it/s]"
      ]
     },
     "metadata": {},
     "output_type": "display_data"
    },
    {
     "name": "stdout",
     "output_type": "stream",
     "text": [
      "[DEBUG] MAE: 87.26° | >45° Errors: 779 | >90° Errors: 525\n"
     ]
    },
    {
     "data": {
      "application/vnd.jupyter.widget-view+json": {
       "model_id": "f3b53977f5d04982989b30045ec8b265",
       "version_major": 2,
       "version_minor": 0
      },
      "text/plain": [
       "Validation: |          | 0/? [00:00<?, ?it/s]"
      ]
     },
     "metadata": {},
     "output_type": "display_data"
    },
    {
     "name": "stdout",
     "output_type": "stream",
     "text": [
      "[DEBUG] MAE: 89.46° | >45° Errors: 814 | >90° Errors: 533\n"
     ]
    },
    {
     "data": {
      "application/vnd.jupyter.widget-view+json": {
       "model_id": "023bcad5088f4d359afa68a7b195de2f",
       "version_major": 2,
       "version_minor": 0
      },
      "text/plain": [
       "Validation: |          | 0/? [00:00<?, ?it/s]"
      ]
     },
     "metadata": {},
     "output_type": "display_data"
    },
    {
     "name": "stdout",
     "output_type": "stream",
     "text": [
      "[DEBUG] MAE: 88.49° | >45° Errors: 804 | >90° Errors: 549\n"
     ]
    },
    {
     "data": {
      "application/vnd.jupyter.widget-view+json": {
       "model_id": "30e8d265dc6e454eb47da5f29ab69571",
       "version_major": 2,
       "version_minor": 0
      },
      "text/plain": [
       "Validation: |          | 0/? [00:00<?, ?it/s]"
      ]
     },
     "metadata": {},
     "output_type": "display_data"
    },
    {
     "name": "stdout",
     "output_type": "stream",
     "text": [
      "[DEBUG] MAE: 92.13° | >45° Errors: 824 | >90° Errors: 552\n"
     ]
    },
    {
     "data": {
      "application/vnd.jupyter.widget-view+json": {
       "model_id": "3ea68cb0ce4e4a2fa7e3384d6502e011",
       "version_major": 2,
       "version_minor": 0
      },
      "text/plain": [
       "Validation: |          | 0/? [00:00<?, ?it/s]"
      ]
     },
     "metadata": {},
     "output_type": "display_data"
    },
    {
     "name": "stdout",
     "output_type": "stream",
     "text": [
      "[DEBUG] MAE: 89.26° | >45° Errors: 813 | >90° Errors: 530\n"
     ]
    },
    {
     "data": {
      "application/vnd.jupyter.widget-view+json": {
       "model_id": "660851c3509f477d9d62bc002ccc39d4",
       "version_major": 2,
       "version_minor": 0
      },
      "text/plain": [
       "Validation: |          | 0/? [00:00<?, ?it/s]"
      ]
     },
     "metadata": {},
     "output_type": "display_data"
    },
    {
     "name": "stdout",
     "output_type": "stream",
     "text": [
      "[DEBUG] MAE: 89.86° | >45° Errors: 825 | >90° Errors: 539\n",
      "[DEBUG] Train targets sample (epoch 10): tensor([[-0.4126,  0.9109],\n",
      "        [-0.9998,  0.0223],\n",
      "        [-0.7895,  0.6137],\n",
      "        [ 0.9609, -0.2768],\n",
      "        [ 0.9803,  0.1975]], device='cuda:0')\n"
     ]
    },
    {
     "data": {
      "application/vnd.jupyter.widget-view+json": {
       "model_id": "2ae5e5c90b664ae8b7d7cb175b8a8609",
       "version_major": 2,
       "version_minor": 0
      },
      "text/plain": [
       "Validation: |          | 0/? [00:00<?, ?it/s]"
      ]
     },
     "metadata": {},
     "output_type": "display_data"
    },
    {
     "name": "stdout",
     "output_type": "stream",
     "text": [
      "Bin -180.0→-170.0: MAE=312.25°  (n=15)\n",
      "Bin -170.0→-160.0: MAE=299.37°  (n=8)\n",
      "Bin -160.0→-150.0: MAE=290.30°  (n=5)\n",
      "Bin -150.0→-140.0: MAE=237.26°  (n=4)\n",
      "Bin -140.0→-130.0: MAE=268.81°  (n=29)\n",
      "Bin -130.0→-120.0: MAE=261.20°  (n=7)\n",
      "Bin -120.0→-110.0: MAE=249.64°  (n=7)\n",
      "Bin -110.0→-100.0: MAE=221.28°  (n=9)\n",
      "Bin -100.0→ -90.0: MAE=230.74°  (n=5)\n",
      "Bin  -90.0→ -80.0: MAE=219.08°  (n=4)\n",
      "Bin  -80.0→ -70.0: MAE=196.10°  (n=8)\n",
      "Bin  -70.0→ -60.0: MAE=199.30°  (n=11)\n",
      "Bin  -60.0→ -50.0: MAE=190.66°  (n=10)\n",
      "Bin  -50.0→ -40.0: MAE=158.88°  (n=8)\n",
      "Bin  -40.0→ -30.0: MAE=168.44°  (n=12)\n",
      "Bin  -30.0→ -20.0: MAE=157.74°  (n=16)\n",
      "Bin  -20.0→ -10.0: MAE=150.92°  (n=13)\n",
      "Bin  -10.0→   0.0: MAE=134.98°  (n=27)\n",
      "Bin    0.0→  10.0: MAE=132.70°  (n=28)\n",
      "Bin   10.0→  20.0: MAE=121.07°  (n=9)\n",
      "Bin   20.0→  30.0: MAE=108.46°  (n=9)\n",
      "Bin   30.0→  40.0: MAE=100.67°  (n=16)\n",
      "Bin   40.0→  50.0: MAE=89.54°  (n=5)\n",
      "Bin   50.0→  60.0: MAE=80.93°  (n=10)\n",
      "Bin   60.0→  70.0: MAE=69.75°  (n=14)\n",
      "Bin   70.0→  80.0: MAE=65.59°  (n=9)\n",
      "Bin   80.0→  90.0: MAE=63.58°  (n=9)\n",
      "Bin   90.0→ 100.0: MAE=41.56°  (n=7)\n",
      "Bin  100.0→ 110.0: MAE=32.80°  (n=6)\n",
      "Bin  110.0→ 120.0: MAE=17.37°  (n=11)\n",
      "Bin  120.0→ 130.0: MAE=14.37°  (n=4)\n",
      "Bin  130.0→ 140.0: MAE=42.12°  (n=4)\n",
      "Bin  140.0→ 150.0: MAE=11.20°  (n=3)\n",
      "Bin  150.0→ 160.0: MAE=18.13°  (n=3)\n",
      "Bin  160.0→ 170.0: MAE=30.96°  (n=4)\n",
      "Bin  170.0→ 180.0: MAE=42.64°  (n=12)\n",
      "[DEBUG] MAE: 91.80° | >45° Errors: 835 | >90° Errors: 548\n"
     ]
    },
    {
     "data": {
      "application/vnd.jupyter.widget-view+json": {
       "model_id": "21801dd6c4664b66bf9a766d2aaa7d6e",
       "version_major": 2,
       "version_minor": 0
      },
      "text/plain": [
       "Validation: |          | 0/? [00:00<?, ?it/s]"
      ]
     },
     "metadata": {},
     "output_type": "display_data"
    },
    {
     "name": "stdout",
     "output_type": "stream",
     "text": [
      "[DEBUG] MAE: 90.77° | >45° Errors: 817 | >90° Errors: 559\n"
     ]
    },
    {
     "data": {
      "application/vnd.jupyter.widget-view+json": {
       "model_id": "4c3bc42110ac4964b094f830306db0ce",
       "version_major": 2,
       "version_minor": 0
      },
      "text/plain": [
       "Validation: |          | 0/? [00:00<?, ?it/s]"
      ]
     },
     "metadata": {},
     "output_type": "display_data"
    },
    {
     "name": "stdout",
     "output_type": "stream",
     "text": [
      "[DEBUG] MAE: 90.38° | >45° Errors: 820 | >90° Errors: 541\n"
     ]
    },
    {
     "data": {
      "application/vnd.jupyter.widget-view+json": {
       "model_id": "8438669c93fe47b791640760a6b81aeb",
       "version_major": 2,
       "version_minor": 0
      },
      "text/plain": [
       "Validation: |          | 0/? [00:00<?, ?it/s]"
      ]
     },
     "metadata": {},
     "output_type": "display_data"
    },
    {
     "name": "stdout",
     "output_type": "stream",
     "text": [
      "[DEBUG] MAE: 87.62° | >45° Errors: 790 | >90° Errors: 519\n"
     ]
    },
    {
     "data": {
      "application/vnd.jupyter.widget-view+json": {
       "model_id": "b018c7191f354981a900af90ea961144",
       "version_major": 2,
       "version_minor": 0
      },
      "text/plain": [
       "Validation: |          | 0/? [00:00<?, ?it/s]"
      ]
     },
     "metadata": {},
     "output_type": "display_data"
    },
    {
     "name": "stdout",
     "output_type": "stream",
     "text": [
      "[DEBUG] MAE: 89.23° | >45° Errors: 796 | >90° Errors: 529\n"
     ]
    },
    {
     "data": {
      "application/vnd.jupyter.widget-view+json": {
       "model_id": "d72d7f6777c54c9ca0169b4ce2baf9af",
       "version_major": 2,
       "version_minor": 0
      },
      "text/plain": [
       "Validation: |          | 0/? [00:00<?, ?it/s]"
      ]
     },
     "metadata": {},
     "output_type": "display_data"
    },
    {
     "name": "stdout",
     "output_type": "stream",
     "text": [
      "[DEBUG] MAE: 89.78° | >45° Errors: 804 | >90° Errors: 532\n"
     ]
    },
    {
     "data": {
      "application/vnd.jupyter.widget-view+json": {
       "model_id": "1ff79af2f2e144b58bcb0ad202515b43",
       "version_major": 2,
       "version_minor": 0
      },
      "text/plain": [
       "Validation: |          | 0/? [00:00<?, ?it/s]"
      ]
     },
     "metadata": {},
     "output_type": "display_data"
    },
    {
     "name": "stdout",
     "output_type": "stream",
     "text": [
      "[DEBUG] MAE: 91.50° | >45° Errors: 834 | >90° Errors: 553\n"
     ]
    },
    {
     "data": {
      "application/vnd.jupyter.widget-view+json": {
       "model_id": "fda8eef93aef4a25baaa934321876661",
       "version_major": 2,
       "version_minor": 0
      },
      "text/plain": [
       "Validation: |          | 0/? [00:00<?, ?it/s]"
      ]
     },
     "metadata": {},
     "output_type": "display_data"
    },
    {
     "name": "stdout",
     "output_type": "stream",
     "text": [
      "[DEBUG] MAE: 87.56° | >45° Errors: 800 | >90° Errors: 521\n"
     ]
    },
    {
     "data": {
      "application/vnd.jupyter.widget-view+json": {
       "model_id": "eab45f493d3d4989a142c67159de8e34",
       "version_major": 2,
       "version_minor": 0
      },
      "text/plain": [
       "Validation: |          | 0/? [00:00<?, ?it/s]"
      ]
     },
     "metadata": {},
     "output_type": "display_data"
    },
    {
     "name": "stdout",
     "output_type": "stream",
     "text": [
      "[DEBUG] MAE: 90.73° | >45° Errors: 791 | >90° Errors: 549\n"
     ]
    },
    {
     "data": {
      "application/vnd.jupyter.widget-view+json": {
       "model_id": "13911d09317f454dac49e5d850b23d83",
       "version_major": 2,
       "version_minor": 0
      },
      "text/plain": [
       "Validation: |          | 0/? [00:00<?, ?it/s]"
      ]
     },
     "metadata": {},
     "output_type": "display_data"
    },
    {
     "name": "stdout",
     "output_type": "stream",
     "text": [
      "[DEBUG] MAE: 90.67° | >45° Errors: 814 | >90° Errors: 558\n",
      "[DEBUG] Train targets sample (epoch 20): tensor([[ 4.8533e-01, -8.7433e-01],\n",
      "        [ 5.4034e-05, -1.0000e+00],\n",
      "        [-3.7259e-01, -9.2799e-01],\n",
      "        [-6.0308e-01, -7.9768e-01],\n",
      "        [ 7.9668e-01, -6.0440e-01]], device='cuda:0')\n"
     ]
    },
    {
     "data": {
      "application/vnd.jupyter.widget-view+json": {
       "model_id": "a3c9919868b944708491530244f7fd9b",
       "version_major": 2,
       "version_minor": 0
      },
      "text/plain": [
       "Validation: |          | 0/? [00:00<?, ?it/s]"
      ]
     },
     "metadata": {},
     "output_type": "display_data"
    },
    {
     "name": "stdout",
     "output_type": "stream",
     "text": [
      "Bin -180.0→-170.0: MAE=313.05°  (n=15)\n",
      "Bin -170.0→-160.0: MAE=300.46°  (n=8)\n",
      "Bin -160.0→-150.0: MAE=290.34°  (n=5)\n",
      "Bin -150.0→-140.0: MAE=276.72°  (n=4)\n",
      "Bin -140.0→-130.0: MAE=268.45°  (n=29)\n",
      "Bin -130.0→-120.0: MAE=261.23°  (n=7)\n",
      "Bin -120.0→-110.0: MAE=247.44°  (n=7)\n",
      "Bin -110.0→-100.0: MAE=230.36°  (n=9)\n",
      "Bin -100.0→ -90.0: MAE=230.82°  (n=5)\n",
      "Bin  -90.0→ -80.0: MAE=219.22°  (n=4)\n",
      "Bin  -80.0→ -70.0: MAE=181.84°  (n=8)\n",
      "Bin  -70.0→ -60.0: MAE=199.31°  (n=11)\n",
      "Bin  -60.0→ -50.0: MAE=188.57°  (n=10)\n",
      "Bin  -50.0→ -40.0: MAE=158.95°  (n=8)\n",
      "Bin  -40.0→ -30.0: MAE=168.40°  (n=12)\n",
      "Bin  -30.0→ -20.0: MAE=155.46°  (n=16)\n",
      "Bin  -20.0→ -10.0: MAE=150.59°  (n=13)\n",
      "Bin  -10.0→   0.0: MAE=134.42°  (n=27)\n",
      "Bin    0.0→  10.0: MAE=132.03°  (n=28)\n",
      "Bin   10.0→  20.0: MAE=121.13°  (n=9)\n",
      "Bin   20.0→  30.0: MAE=108.53°  (n=9)\n",
      "Bin   30.0→  40.0: MAE=100.14°  (n=16)\n",
      "Bin   40.0→  50.0: MAE=89.11°  (n=5)\n",
      "Bin   50.0→  60.0: MAE=81.05°  (n=10)\n",
      "Bin   60.0→  70.0: MAE=66.18°  (n=14)\n",
      "Bin   70.0→  80.0: MAE=64.14°  (n=9)\n",
      "Bin   80.0→  90.0: MAE=62.57°  (n=9)\n",
      "Bin   90.0→ 100.0: MAE=41.44°  (n=7)\n",
      "Bin  100.0→ 110.0: MAE=32.89°  (n=6)\n",
      "Bin  110.0→ 120.0: MAE=17.97°  (n=11)\n",
      "Bin  120.0→ 130.0: MAE=11.79°  (n=4)\n",
      "Bin  130.0→ 140.0: MAE=43.34°  (n=4)\n",
      "Bin  140.0→ 150.0: MAE=11.33°  (n=3)\n",
      "Bin  150.0→ 160.0: MAE=18.17°  (n=3)\n",
      "Bin  160.0→ 170.0: MAE=31.29°  (n=4)\n",
      "Bin  170.0→ 180.0: MAE=43.59°  (n=12)\n",
      "[DEBUG] MAE: 88.75° | >45° Errors: 797 | >90° Errors: 537\n"
     ]
    },
    {
     "data": {
      "application/vnd.jupyter.widget-view+json": {
       "model_id": "0fbb88d3466b484689804cd2f169eedd",
       "version_major": 2,
       "version_minor": 0
      },
      "text/plain": [
       "Validation: |          | 0/? [00:00<?, ?it/s]"
      ]
     },
     "metadata": {},
     "output_type": "display_data"
    },
    {
     "name": "stdout",
     "output_type": "stream",
     "text": [
      "[DEBUG] MAE: 87.59° | >45° Errors: 778 | >90° Errors: 527\n"
     ]
    },
    {
     "data": {
      "application/vnd.jupyter.widget-view+json": {
       "model_id": "ccaad40c36044cf58f4e4bf7476dab31",
       "version_major": 2,
       "version_minor": 0
      },
      "text/plain": [
       "Validation: |          | 0/? [00:00<?, ?it/s]"
      ]
     },
     "metadata": {},
     "output_type": "display_data"
    },
    {
     "name": "stdout",
     "output_type": "stream",
     "text": [
      "[DEBUG] MAE: 90.79° | >45° Errors: 809 | >90° Errors: 550\n"
     ]
    },
    {
     "data": {
      "application/vnd.jupyter.widget-view+json": {
       "model_id": "6c8b7a8fe550474e94403f1e44454fde",
       "version_major": 2,
       "version_minor": 0
      },
      "text/plain": [
       "Validation: |          | 0/? [00:00<?, ?it/s]"
      ]
     },
     "metadata": {},
     "output_type": "display_data"
    },
    {
     "name": "stdout",
     "output_type": "stream",
     "text": [
      "[DEBUG] MAE: 91.34° | >45° Errors: 831 | >90° Errors: 553\n"
     ]
    },
    {
     "data": {
      "application/vnd.jupyter.widget-view+json": {
       "model_id": "50c3200be5424f4ea525409d640f3a1f",
       "version_major": 2,
       "version_minor": 0
      },
      "text/plain": [
       "Validation: |          | 0/? [00:00<?, ?it/s]"
      ]
     },
     "metadata": {},
     "output_type": "display_data"
    },
    {
     "name": "stdout",
     "output_type": "stream",
     "text": [
      "[DEBUG] MAE: 89.97° | >45° Errors: 825 | >90° Errors: 537\n"
     ]
    },
    {
     "data": {
      "application/vnd.jupyter.widget-view+json": {
       "model_id": "9a696e573a414071934268043b99a864",
       "version_major": 2,
       "version_minor": 0
      },
      "text/plain": [
       "Validation: |          | 0/? [00:00<?, ?it/s]"
      ]
     },
     "metadata": {},
     "output_type": "display_data"
    },
    {
     "name": "stdout",
     "output_type": "stream",
     "text": [
      "[DEBUG] MAE: 90.17° | >45° Errors: 817 | >90° Errors: 545\n"
     ]
    },
    {
     "data": {
      "application/vnd.jupyter.widget-view+json": {
       "model_id": "862f8b8d1ed147428a9853596b92210a",
       "version_major": 2,
       "version_minor": 0
      },
      "text/plain": [
       "Validation: |          | 0/? [00:00<?, ?it/s]"
      ]
     },
     "metadata": {},
     "output_type": "display_data"
    },
    {
     "name": "stdout",
     "output_type": "stream",
     "text": [
      "[DEBUG] MAE: 91.65° | >45° Errors: 819 | >90° Errors: 550\n"
     ]
    },
    {
     "data": {
      "application/vnd.jupyter.widget-view+json": {
       "model_id": "c8da506355184541be6cd8c861bfc7d0",
       "version_major": 2,
       "version_minor": 0
      },
      "text/plain": [
       "Validation: |          | 0/? [00:00<?, ?it/s]"
      ]
     },
     "metadata": {},
     "output_type": "display_data"
    },
    {
     "name": "stdout",
     "output_type": "stream",
     "text": [
      "[DEBUG] MAE: 88.12° | >45° Errors: 791 | >90° Errors: 535\n"
     ]
    },
    {
     "data": {
      "application/vnd.jupyter.widget-view+json": {
       "model_id": "c2cf1e96612e4e5c965e00e00b3591c3",
       "version_major": 2,
       "version_minor": 0
      },
      "text/plain": [
       "Validation: |          | 0/? [00:00<?, ?it/s]"
      ]
     },
     "metadata": {},
     "output_type": "display_data"
    },
    {
     "name": "stdout",
     "output_type": "stream",
     "text": [
      "[DEBUG] MAE: 91.47° | >45° Errors: 813 | >90° Errors: 545\n"
     ]
    },
    {
     "data": {
      "application/vnd.jupyter.widget-view+json": {
       "model_id": "cccfe22837654d288da0a9bdda91db1f",
       "version_major": 2,
       "version_minor": 0
      },
      "text/plain": [
       "Validation: |          | 0/? [00:00<?, ?it/s]"
      ]
     },
     "metadata": {},
     "output_type": "display_data"
    },
    {
     "name": "stdout",
     "output_type": "stream",
     "text": [
      "[DEBUG] MAE: 88.50° | >45° Errors: 802 | >90° Errors: 528\n",
      "[DEBUG] Train targets sample (epoch 30): tensor([[ 0.0020,  1.0000],\n",
      "        [ 0.9857, -0.1684],\n",
      "        [ 0.4419,  0.8971],\n",
      "        [-0.1971,  0.9804],\n",
      "        [-0.9375,  0.3479]], device='cuda:0')\n"
     ]
    },
    {
     "data": {
      "application/vnd.jupyter.widget-view+json": {
       "model_id": "6aa9e6bbd9894e9e9e5a7355ca2d8bef",
       "version_major": 2,
       "version_minor": 0
      },
      "text/plain": [
       "Validation: |          | 0/? [00:00<?, ?it/s]"
      ]
     },
     "metadata": {},
     "output_type": "display_data"
    },
    {
     "name": "stdout",
     "output_type": "stream",
     "text": [
      "Bin -180.0→-170.0: MAE=313.12°  (n=15)\n",
      "Bin -170.0→-160.0: MAE=298.99°  (n=8)\n",
      "Bin -160.0→-150.0: MAE=290.34°  (n=5)\n",
      "Bin -150.0→-140.0: MAE=237.05°  (n=4)\n",
      "Bin -140.0→-130.0: MAE=268.57°  (n=29)\n",
      "Bin -130.0→-120.0: MAE=261.25°  (n=7)\n",
      "Bin -120.0→-110.0: MAE=248.88°  (n=7)\n",
      "Bin -110.0→-100.0: MAE=219.13°  (n=9)\n",
      "Bin -100.0→ -90.0: MAE=230.61°  (n=5)\n",
      "Bin  -90.0→ -80.0: MAE=218.87°  (n=4)\n",
      "Bin  -80.0→ -70.0: MAE=198.52°  (n=8)\n",
      "Bin  -70.0→ -60.0: MAE=199.43°  (n=11)\n",
      "Bin  -60.0→ -50.0: MAE=189.83°  (n=10)\n",
      "Bin  -50.0→ -40.0: MAE=157.26°  (n=8)\n",
      "Bin  -40.0→ -30.0: MAE=168.17°  (n=12)\n",
      "Bin  -30.0→ -20.0: MAE=156.09°  (n=16)\n",
      "Bin  -20.0→ -10.0: MAE=149.61°  (n=13)\n",
      "Bin  -10.0→   0.0: MAE=130.12°  (n=27)\n",
      "Bin    0.0→  10.0: MAE=131.54°  (n=28)\n",
      "Bin   10.0→  20.0: MAE=120.86°  (n=9)\n",
      "Bin   20.0→  30.0: MAE=108.28°  (n=9)\n",
      "Bin   30.0→  40.0: MAE=98.74°  (n=16)\n",
      "Bin   40.0→  50.0: MAE=89.57°  (n=5)\n",
      "Bin   50.0→  60.0: MAE=80.73°  (n=10)\n",
      "Bin   60.0→  70.0: MAE=67.82°  (n=14)\n",
      "Bin   70.0→  80.0: MAE=64.29°  (n=9)\n",
      "Bin   80.0→  90.0: MAE=64.99°  (n=9)\n",
      "Bin   90.0→ 100.0: MAE=41.39°  (n=7)\n",
      "Bin  100.0→ 110.0: MAE=33.09°  (n=6)\n",
      "Bin  110.0→ 120.0: MAE=17.70°  (n=11)\n",
      "Bin  120.0→ 130.0: MAE=13.95°  (n=4)\n",
      "Bin  130.0→ 140.0: MAE=43.22°  (n=4)\n",
      "Bin  140.0→ 150.0: MAE=11.09°  (n=3)\n",
      "Bin  150.0→ 160.0: MAE=18.20°  (n=3)\n",
      "Bin  160.0→ 170.0: MAE=32.77°  (n=4)\n",
      "Bin  170.0→ 180.0: MAE=42.94°  (n=12)\n",
      "[DEBUG] MAE: 87.62° | >45° Errors: 790 | >90° Errors: 508\n"
     ]
    },
    {
     "data": {
      "application/vnd.jupyter.widget-view+json": {
       "model_id": "874893e669734d2192a0483ad6d2f2ca",
       "version_major": 2,
       "version_minor": 0
      },
      "text/plain": [
       "Validation: |          | 0/? [00:00<?, ?it/s]"
      ]
     },
     "metadata": {},
     "output_type": "display_data"
    },
    {
     "name": "stdout",
     "output_type": "stream",
     "text": [
      "[DEBUG] MAE: 88.95° | >45° Errors: 806 | >90° Errors: 521\n"
     ]
    },
    {
     "data": {
      "application/vnd.jupyter.widget-view+json": {
       "model_id": "3bba29eae4924b1990ce1437cc93e915",
       "version_major": 2,
       "version_minor": 0
      },
      "text/plain": [
       "Validation: |          | 0/? [00:00<?, ?it/s]"
      ]
     },
     "metadata": {},
     "output_type": "display_data"
    },
    {
     "name": "stdout",
     "output_type": "stream",
     "text": [
      "[DEBUG] MAE: 90.41° | >45° Errors: 818 | >90° Errors: 551\n"
     ]
    },
    {
     "data": {
      "application/vnd.jupyter.widget-view+json": {
       "model_id": "e42939adb75b4196b8d4f35b4a43cafb",
       "version_major": 2,
       "version_minor": 0
      },
      "text/plain": [
       "Validation: |          | 0/? [00:00<?, ?it/s]"
      ]
     },
     "metadata": {},
     "output_type": "display_data"
    },
    {
     "name": "stdout",
     "output_type": "stream",
     "text": [
      "[DEBUG] MAE: 88.23° | >45° Errors: 802 | >90° Errors: 531\n"
     ]
    },
    {
     "data": {
      "application/vnd.jupyter.widget-view+json": {
       "model_id": "369178a5fc4845c2a0c4a5818e2a0e40",
       "version_major": 2,
       "version_minor": 0
      },
      "text/plain": [
       "Validation: |          | 0/? [00:00<?, ?it/s]"
      ]
     },
     "metadata": {},
     "output_type": "display_data"
    },
    {
     "name": "stdout",
     "output_type": "stream",
     "text": [
      "[DEBUG] MAE: 88.50° | >45° Errors: 815 | >90° Errors: 524\n"
     ]
    },
    {
     "data": {
      "application/vnd.jupyter.widget-view+json": {
       "model_id": "1ed1418789824781ae431220e08ebc77",
       "version_major": 2,
       "version_minor": 0
      },
      "text/plain": [
       "Validation: |          | 0/? [00:00<?, ?it/s]"
      ]
     },
     "metadata": {},
     "output_type": "display_data"
    },
    {
     "name": "stdout",
     "output_type": "stream",
     "text": [
      "[DEBUG] MAE: 89.00° | >45° Errors: 796 | >90° Errors: 539\n"
     ]
    },
    {
     "data": {
      "application/vnd.jupyter.widget-view+json": {
       "model_id": "2dd47b09c80d42e2a66cbd48c7bc04b7",
       "version_major": 2,
       "version_minor": 0
      },
      "text/plain": [
       "Validation: |          | 0/? [00:00<?, ?it/s]"
      ]
     },
     "metadata": {},
     "output_type": "display_data"
    },
    {
     "name": "stdout",
     "output_type": "stream",
     "text": [
      "[DEBUG] MAE: 90.90° | >45° Errors: 820 | >90° Errors: 546\n"
     ]
    },
    {
     "data": {
      "application/vnd.jupyter.widget-view+json": {
       "model_id": "109260c0392d4042a9baed9fab578eea",
       "version_major": 2,
       "version_minor": 0
      },
      "text/plain": [
       "Validation: |          | 0/? [00:00<?, ?it/s]"
      ]
     },
     "metadata": {},
     "output_type": "display_data"
    },
    {
     "name": "stdout",
     "output_type": "stream",
     "text": [
      "[DEBUG] MAE: 91.46° | >45° Errors: 832 | >90° Errors: 560\n"
     ]
    },
    {
     "data": {
      "application/vnd.jupyter.widget-view+json": {
       "model_id": "ded96be900f34f23a70c5143dafd8a73",
       "version_major": 2,
       "version_minor": 0
      },
      "text/plain": [
       "Validation: |          | 0/? [00:00<?, ?it/s]"
      ]
     },
     "metadata": {},
     "output_type": "display_data"
    },
    {
     "name": "stdout",
     "output_type": "stream",
     "text": [
      "[DEBUG] MAE: 88.14° | >45° Errors: 808 | >90° Errors: 519\n"
     ]
    },
    {
     "data": {
      "application/vnd.jupyter.widget-view+json": {
       "model_id": "798af704562344bbb8dc479e600b679c",
       "version_major": 2,
       "version_minor": 0
      },
      "text/plain": [
       "Validation: |          | 0/? [00:00<?, ?it/s]"
      ]
     },
     "metadata": {},
     "output_type": "display_data"
    },
    {
     "name": "stdout",
     "output_type": "stream",
     "text": [
      "[DEBUG] MAE: 90.32° | >45° Errors: 820 | >90° Errors: 547\n",
      "[DEBUG] Train targets sample (epoch 40): tensor([[ 0.7674, -0.6412],\n",
      "        [ 0.9608, -0.2772],\n",
      "        [-0.9535,  0.3015],\n",
      "        [-0.2432,  0.9700],\n",
      "        [-0.9892,  0.1466]], device='cuda:0')\n"
     ]
    },
    {
     "data": {
      "application/vnd.jupyter.widget-view+json": {
       "model_id": "a6b1bface34a463591ffba6d70a7cbf5",
       "version_major": 2,
       "version_minor": 0
      },
      "text/plain": [
       "Validation: |          | 0/? [00:00<?, ?it/s]"
      ]
     },
     "metadata": {},
     "output_type": "display_data"
    },
    {
     "name": "stdout",
     "output_type": "stream",
     "text": [
      "Bin -180.0→-170.0: MAE=313.25°  (n=15)\n",
      "Bin -170.0→-160.0: MAE=298.35°  (n=8)\n",
      "Bin -160.0→-150.0: MAE=290.37°  (n=5)\n",
      "Bin -150.0→-140.0: MAE=236.98°  (n=4)\n",
      "Bin -140.0→-130.0: MAE=267.67°  (n=29)\n",
      "Bin -130.0→-120.0: MAE=261.30°  (n=7)\n",
      "Bin -120.0→-110.0: MAE=249.63°  (n=7)\n",
      "Bin -110.0→-100.0: MAE=221.87°  (n=9)\n",
      "Bin -100.0→ -90.0: MAE=230.94°  (n=5)\n",
      "Bin  -90.0→ -80.0: MAE=219.06°  (n=4)\n",
      "Bin  -80.0→ -70.0: MAE=186.49°  (n=8)\n",
      "Bin  -70.0→ -60.0: MAE=199.52°  (n=11)\n",
      "Bin  -60.0→ -50.0: MAE=189.95°  (n=10)\n",
      "Bin  -50.0→ -40.0: MAE=174.12°  (n=8)\n",
      "Bin  -40.0→ -30.0: MAE=168.33°  (n=12)\n",
      "Bin  -30.0→ -20.0: MAE=156.68°  (n=16)\n",
      "Bin  -20.0→ -10.0: MAE=150.39°  (n=13)\n",
      "Bin  -10.0→   0.0: MAE=134.39°  (n=27)\n",
      "Bin    0.0→  10.0: MAE=131.77°  (n=28)\n",
      "Bin   10.0→  20.0: MAE=120.76°  (n=9)\n",
      "Bin   20.0→  30.0: MAE=108.02°  (n=9)\n",
      "Bin   30.0→  40.0: MAE=99.99°  (n=16)\n",
      "Bin   40.0→  50.0: MAE=89.09°  (n=5)\n",
      "Bin   50.0→  60.0: MAE=80.93°  (n=10)\n",
      "Bin   60.0→  70.0: MAE=69.67°  (n=14)\n",
      "Bin   70.0→  80.0: MAE=64.00°  (n=9)\n",
      "Bin   80.0→  90.0: MAE=62.42°  (n=9)\n",
      "Bin   90.0→ 100.0: MAE=41.37°  (n=7)\n",
      "Bin  100.0→ 110.0: MAE=33.28°  (n=6)\n",
      "Bin  110.0→ 120.0: MAE=16.99°  (n=11)\n",
      "Bin  120.0→ 130.0: MAE=13.48°  (n=4)\n",
      "Bin  130.0→ 140.0: MAE=43.15°  (n=4)\n",
      "Bin  140.0→ 150.0: MAE=11.52°  (n=3)\n",
      "Bin  150.0→ 160.0: MAE=17.94°  (n=3)\n",
      "Bin  160.0→ 170.0: MAE=31.35°  (n=4)\n",
      "Bin  170.0→ 180.0: MAE=43.12°  (n=12)\n",
      "[DEBUG] MAE: 90.54° | >45° Errors: 806 | >90° Errors: 544\n"
     ]
    },
    {
     "data": {
      "application/vnd.jupyter.widget-view+json": {
       "model_id": "c6a9db9b1d2446a9a025b936d7f1add9",
       "version_major": 2,
       "version_minor": 0
      },
      "text/plain": [
       "Validation: |          | 0/? [00:00<?, ?it/s]"
      ]
     },
     "metadata": {},
     "output_type": "display_data"
    },
    {
     "name": "stdout",
     "output_type": "stream",
     "text": [
      "[DEBUG] MAE: 88.31° | >45° Errors: 821 | >90° Errors: 526\n"
     ]
    },
    {
     "data": {
      "application/vnd.jupyter.widget-view+json": {
       "model_id": "ecf9ed65d09c4979b388a19154609252",
       "version_major": 2,
       "version_minor": 0
      },
      "text/plain": [
       "Validation: |          | 0/? [00:00<?, ?it/s]"
      ]
     },
     "metadata": {},
     "output_type": "display_data"
    },
    {
     "name": "stdout",
     "output_type": "stream",
     "text": [
      "[DEBUG] MAE: 90.08° | >45° Errors: 813 | >90° Errors: 548\n"
     ]
    },
    {
     "data": {
      "application/vnd.jupyter.widget-view+json": {
       "model_id": "0cd2e252fae74a3ab45364df8eaf93be",
       "version_major": 2,
       "version_minor": 0
      },
      "text/plain": [
       "Validation: |          | 0/? [00:00<?, ?it/s]"
      ]
     },
     "metadata": {},
     "output_type": "display_data"
    },
    {
     "name": "stdout",
     "output_type": "stream",
     "text": [
      "[DEBUG] MAE: 87.45° | >45° Errors: 795 | >90° Errors: 504\n"
     ]
    },
    {
     "data": {
      "application/vnd.jupyter.widget-view+json": {
       "model_id": "a55702231b0147a19046098baaf0d163",
       "version_major": 2,
       "version_minor": 0
      },
      "text/plain": [
       "Validation: |          | 0/? [00:00<?, ?it/s]"
      ]
     },
     "metadata": {},
     "output_type": "display_data"
    },
    {
     "name": "stderr",
     "output_type": "stream",
     "text": [
      "FIT Profiler Report\n",
      "\n",
      "----------------------------------------------------------------------------------------------------------------------------------------------------------------------------------------------------------------------------------------------------------------------------------\n",
      "|  Action                                                                                                                                                               \t|  Mean duration (s)\t|  Num calls      \t|  Total time (s) \t|  Percentage %   \t|\n",
      "----------------------------------------------------------------------------------------------------------------------------------------------------------------------------------------------------------------------------------------------------------------------------------\n",
      "|  Total                                                                                                                                                                \t|  -              \t|  23437          \t|  151.74         \t|  100 %          \t|\n",
      "----------------------------------------------------------------------------------------------------------------------------------------------------------------------------------------------------------------------------------------------------------------------------------\n",
      "|  run_training_epoch                                                                                                                                                   \t|  2.7976         \t|  45             \t|  125.89         \t|  82.968         \t|\n",
      "|  run_training_batch                                                                                                                                                   \t|  0.13235        \t|  405            \t|  53.6           \t|  35.324         \t|\n",
      "|  [LightningModule]MultiCMPNNLightningModuleClean.optimizer_step                                                                                                       \t|  0.13102        \t|  405            \t|  53.065         \t|  34.972         \t|\n",
      "|  [Strategy]SingleDeviceStrategy.backward                                                                                                                              \t|  0.073631       \t|  405            \t|  29.821         \t|  19.653         \t|\n",
      "|  [_TrainingEpochLoop].train_dataloader_next                                                                                                                           \t|  0.067342       \t|  405            \t|  27.273         \t|  17.974         \t|\n",
      "|  [Strategy]SingleDeviceStrategy.batch_to_device                                                                                                                       \t|  0.038109       \t|  677            \t|  25.8           \t|  17.003         \t|\n",
      "|  [LightningModule]MultiCMPNNLightningModuleClean.transfer_batch_to_device                                                                                             \t|  0.038055       \t|  677            \t|  25.763         \t|  16.979         \t|\n",
      "|  [Strategy]SingleDeviceStrategy.training_step                                                                                                                         \t|  0.055885       \t|  405            \t|  22.633         \t|  14.916         \t|\n",
      "|  [LightningModule]MultiCMPNNLightningModuleClean.on_after_backward                                                                                                    \t|  0.028949       \t|  405            \t|  11.724         \t|  7.7268         \t|\n",
      "|  [_EvaluationLoop].val_next                                                                                                                                           \t|  0.023982       \t|  272            \t|  6.5232         \t|  4.299          \t|\n",
      "|  [Strategy]SingleDeviceStrategy.validation_step                                                                                                                       \t|  0.021241       \t|  272            \t|  5.7775         \t|  3.8075         \t|\n",
      "|  [Callback]ModelCheckpoint{'monitor': 'val_loss', 'mode': 'min', 'every_n_train_steps': 0, 'every_n_epochs': 1, 'train_time_interval': None}.on_validation_end        \t|  0.067252       \t|  46             \t|  3.0936         \t|  2.0388         \t|\n",
      "|  save_checkpoint                                                                                                                                                      \t|  0.59541        \t|  5              \t|  2.9771         \t|  1.962          \t|\n",
      "|  [LightningModule]MultiCMPNNLightningModuleClean.on_validation_epoch_end                                                                                              \t|  0.046044       \t|  46             \t|  2.118          \t|  1.3958         \t|\n",
      "|  [LightningModule]MultiCMPNNLightningModuleClean.on_train_epoch_end                                                                                                   \t|  0.03583        \t|  45             \t|  1.6124         \t|  1.0626         \t|\n",
      "|  [Callback]TQDMProgressBar.on_train_batch_end                                                                                                                         \t|  0.0023114      \t|  405            \t|  0.93611        \t|  0.61692        \t|\n",
      "|  [Callback]TQDMProgressBar.on_train_epoch_end                                                                                                                         \t|  0.020746       \t|  45             \t|  0.93358        \t|  0.61526        \t|\n",
      "|  [Callback]EarlyStopping{'monitor': 'val_loss', 'mode': 'min'}.on_train_epoch_end                                                                                     \t|  0.010808       \t|  45             \t|  0.48638        \t|  0.32054        \t|\n",
      "|  [LightningModule]MultiCMPNNLightningModuleClean.configure_gradient_clipping                                                                                          \t|  0.00060071     \t|  405            \t|  0.24329        \t|  0.16033        \t|\n",
      "|  [Callback]TQDMProgressBar.on_validation_start                                                                                                                        \t|  0.0036842      \t|  46             \t|  0.16947        \t|  0.11169        \t|\n",
      "|  [Callback]TQDMProgressBar.on_validation_batch_end                                                                                                                    \t|  0.00042325     \t|  272            \t|  0.11512        \t|  0.075871       \t|\n",
      "|  [LightningModule]MultiCMPNNLightningModuleClean.optimizer_zero_grad                                                                                                  \t|  0.00022615     \t|  405            \t|  0.091592       \t|  0.060362       \t|\n",
      "|  [Callback]TQDMProgressBar.on_validation_batch_start                                                                                                                  \t|  0.00012035     \t|  272            \t|  0.032736       \t|  0.021574       \t|\n",
      "|  [Callback]TQDMProgressBar.on_validation_end                                                                                                                          \t|  0.00057865     \t|  46             \t|  0.026618       \t|  0.017542       \t|\n",
      "|  [Callback]TQDMProgressBar.on_train_epoch_start                                                                                                                       \t|  0.0004778      \t|  45             \t|  0.021501       \t|  0.01417        \t|\n",
      "|  [LightningModule]MultiCMPNNLightningModuleClean.on_validation_model_zero_grad                                                                                        \t|  0.00036873     \t|  45             \t|  0.016593       \t|  0.010935       \t|\n",
      "|  [LightningModule]MultiCMPNNLightningModuleClean.on_validation_model_eval                                                                                             \t|  0.00024047     \t|  46             \t|  0.011062       \t|  0.00729        \t|\n",
      "|  [LightningModule]MultiCMPNNLightningModuleClean.lr_scheduler_step                                                                                                    \t|  1.8091e-05     \t|  405            \t|  0.0073269      \t|  0.0048287      \t|\n",
      "|  [Callback]ModelCheckpoint{'monitor': 'val_loss', 'mode': 'min', 'every_n_train_steps': 0, 'every_n_epochs': 1, 'train_time_interval': None}.on_train_batch_end       \t|  1.5895e-05     \t|  405            \t|  0.0064375      \t|  0.0042425      \t|\n",
      "|  [Callback]TQDMProgressBar.on_sanity_check_start                                                                                                                      \t|  0.0039773      \t|  1              \t|  0.0039773      \t|  0.0026211      \t|\n",
      "|  [Callback]TQDMProgressBar.on_train_start                                                                                                                             \t|  0.0039221      \t|  1              \t|  0.0039221      \t|  0.0025848      \t|\n",
      "|  [Callback]ModelSummary.on_fit_start                                                                                                                                  \t|  0.0020459      \t|  1              \t|  0.0020459      \t|  0.0013483      \t|\n",
      "|  [Callback]EarlyStopping{'monitor': 'val_loss', 'mode': 'min'}.on_after_backward                                                                                      \t|  4.1777e-06     \t|  405            \t|  0.001692       \t|  0.0011151      \t|\n",
      "|  [Callback]ModelSummary.on_train_batch_end                                                                                                                            \t|  2.7216e-06     \t|  405            \t|  0.0011023      \t|  0.00072642     \t|\n",
      "|  [Callback]ModelCheckpoint{'monitor': 'val_loss', 'mode': 'min', 'every_n_train_steps': 0, 'every_n_epochs': 1, 'train_time_interval': None}.setup                    \t|  0.0010687      \t|  1              \t|  0.0010687      \t|  0.00070431     \t|\n",
      "|  [LightningModule]MultiCMPNNLightningModuleClean.on_before_batch_transfer                                                                                             \t|  1.571e-06      \t|  677            \t|  0.0010636      \t|  0.00070094     \t|\n",
      "|  [Callback]ModelSummary.on_validation_batch_end                                                                                                                       \t|  2.6187e-06     \t|  272            \t|  0.00071228     \t|  0.00046942     \t|\n",
      "|  [Callback]EarlyStopping{'monitor': 'val_loss', 'mode': 'min'}.on_before_zero_grad                                                                                    \t|  1.7291e-06     \t|  405            \t|  0.00070029     \t|  0.00046152     \t|\n",
      "|  [Callback]EarlyStopping{'monitor': 'val_loss', 'mode': 'min'}.on_train_batch_end                                                                                     \t|  1.591e-06      \t|  405            \t|  0.00064436     \t|  0.00042465     \t|\n",
      "|  [LightningModule]MultiCMPNNLightningModuleClean.on_after_batch_transfer                                                                                              \t|  9.3495e-07     \t|  677            \t|  0.00063296     \t|  0.00041714     \t|\n",
      "|  [Callback]EarlyStopping{'monitor': 'val_loss', 'mode': 'min'}.on_before_optimizer_step                                                                               \t|  1.5327e-06     \t|  405            \t|  0.00062075     \t|  0.00040909     \t|\n",
      "|  [Callback]ModelCheckpoint{'monitor': 'val_loss', 'mode': 'min', 'every_n_train_steps': 0, 'every_n_epochs': 1, 'train_time_interval': None}.on_train_epoch_end       \t|  1.2151e-05     \t|  45             \t|  0.00054679     \t|  0.00036035     \t|\n",
      "|  [Callback]EarlyStopping{'monitor': 'val_loss', 'mode': 'min'}.on_train_batch_start                                                                                   \t|  1.259e-06      \t|  405            \t|  0.0005099      \t|  0.00033604     \t|\n",
      "|  [LightningModule]MultiCMPNNLightningModuleClean.configure_optimizers                                                                                                 \t|  0.00048944     \t|  1              \t|  0.00048944     \t|  0.00032256     \t|\n",
      "|  [Callback]EarlyStopping{'monitor': 'val_loss', 'mode': 'min'}.on_before_backward                                                                                     \t|  1.169e-06      \t|  405            \t|  0.00047343     \t|  0.000312       \t|\n",
      "|  [Callback]EarlyStopping{'monitor': 'val_loss', 'mode': 'min'}.on_validation_batch_end                                                                                \t|  1.6512e-06     \t|  272            \t|  0.00044913     \t|  0.00029599     \t|\n",
      "|  [Callback]TQDMProgressBar.on_after_backward                                                                                                                          \t|  1.0117e-06     \t|  405            \t|  0.00040976     \t|  0.00027004     \t|\n",
      "|  [Callback]EarlyStopping{'monitor': 'val_loss', 'mode': 'min'}.on_validation_batch_start                                                                              \t|  1.4624e-06     \t|  272            \t|  0.00039777     \t|  0.00026214     \t|\n",
      "|  [LightningModule]MultiCMPNNLightningModuleClean.on_before_zero_grad                                                                                                  \t|  8.7858e-07     \t|  405            \t|  0.00035583     \t|  0.0002345      \t|\n",
      "|  [LightningModule]MultiCMPNNLightningModuleClean.on_train_batch_end                                                                                                   \t|  8.4861e-07     \t|  405            \t|  0.00034369     \t|  0.0002265      \t|\n",
      "|  [Callback]ModelCheckpoint{'monitor': 'val_loss', 'mode': 'min', 'every_n_train_steps': 0, 'every_n_epochs': 1, 'train_time_interval': None}.on_after_backward        \t|  8.4022e-07     \t|  405            \t|  0.00034029     \t|  0.00022426     \t|\n",
      "|  [LightningModule]MultiCMPNNLightningModuleClean.on_before_optimizer_step                                                                                             \t|  8.2392e-07     \t|  405            \t|  0.00033369     \t|  0.00021991     \t|\n",
      "|  [Callback]TQDMProgressBar.on_before_zero_grad                                                                                                                        \t|  8.1313e-07     \t|  405            \t|  0.00032932     \t|  0.00021703     \t|\n",
      "|  [Callback]TQDMProgressBar.on_train_batch_start                                                                                                                       \t|  8.0937e-07     \t|  405            \t|  0.0003278      \t|  0.00021603     \t|\n",
      "|  [LightningModule]MultiCMPNNLightningModuleClean.on_train_batch_start                                                                                                 \t|  7.9497e-07     \t|  405            \t|  0.00032196     \t|  0.00021219     \t|\n",
      "|  [Callback]TQDMProgressBar.on_before_optimizer_step                                                                                                                   \t|  7.4052e-07     \t|  405            \t|  0.00029991     \t|  0.00019765     \t|\n",
      "|  [Callback]ModelSummary.on_after_backward                                                                                                                             \t|  7.2648e-07     \t|  405            \t|  0.00029422     \t|  0.0001939      \t|\n",
      "|  [Callback]ModelSummary.on_validation_batch_start                                                                                                                     \t|  1.0712e-06     \t|  272            \t|  0.00029137     \t|  0.00019202     \t|\n",
      "|  [Callback]ModelCheckpoint{'monitor': 'val_loss', 'mode': 'min', 'every_n_train_steps': 0, 'every_n_epochs': 1, 'train_time_interval': None}.on_before_backward       \t|  7.1456e-07     \t|  405            \t|  0.00028939     \t|  0.00019072     \t|\n",
      "|  [Callback]TQDMProgressBar.on_before_backward                                                                                                                         \t|  7.1147e-07     \t|  405            \t|  0.00028815     \t|  0.0001899      \t|\n",
      "|  [Callback]ModelCheckpoint{'monitor': 'val_loss', 'mode': 'min', 'every_n_train_steps': 0, 'every_n_epochs': 1, 'train_time_interval': None}.on_train_batch_start     \t|  6.9691e-07     \t|  405            \t|  0.00028225     \t|  0.00018601     \t|\n",
      "|  [Callback]TQDMProgressBar.on_train_end                                                                                                                               \t|  0.00028038     \t|  1              \t|  0.00028038     \t|  0.00018478     \t|\n",
      "|  [LightningModule]MultiCMPNNLightningModuleClean.on_before_backward                                                                                                   \t|  6.8018e-07     \t|  405            \t|  0.00027547     \t|  0.00018155     \t|\n",
      "|  [Callback]ModelCheckpoint{'monitor': 'val_loss', 'mode': 'min', 'every_n_train_steps': 0, 'every_n_epochs': 1, 'train_time_interval': None}.on_before_zero_grad      \t|  6.7905e-07     \t|  405            \t|  0.00027501     \t|  0.00018124     \t|\n",
      "|  [Callback]ModelSummary.on_before_zero_grad                                                                                                                           \t|  6.7709e-07     \t|  405            \t|  0.00027422     \t|  0.00018072     \t|\n",
      "|  [Callback]ModelCheckpoint{'monitor': 'val_loss', 'mode': 'min', 'every_n_train_steps': 0, 'every_n_epochs': 1, 'train_time_interval': None}.on_before_optimizer_step \t|  6.6903e-07     \t|  405            \t|  0.00027096     \t|  0.00017857     \t|\n",
      "|  [Callback]ModelSummary.on_train_batch_start                                                                                                                          \t|  6.6725e-07     \t|  405            \t|  0.00027024     \t|  0.00017809     \t|\n",
      "|  [Callback]ModelSummary.on_before_optimizer_step                                                                                                                      \t|  6.4638e-07     \t|  405            \t|  0.00026178     \t|  0.00017252     \t|\n",
      "|  [Callback]ModelSummary.on_before_backward                                                                                                                            \t|  6.32e-07       \t|  405            \t|  0.00025596     \t|  0.00016869     \t|\n",
      "|  [LightningModule]MultiCMPNNLightningModuleClean.on_validation_batch_end                                                                                              \t|  9.1894e-07     \t|  272            \t|  0.00024995     \t|  0.00016473     \t|\n",
      "|  [Callback]ModelCheckpoint{'monitor': 'val_loss', 'mode': 'min', 'every_n_train_steps': 0, 'every_n_epochs': 1, 'train_time_interval': None}.on_validation_batch_end  \t|  8.573e-07      \t|  272            \t|  0.00023319     \t|  0.00015368     \t|\n",
      "|  [LightningModule]MultiCMPNNLightningModuleClean.on_validation_batch_start                                                                                            \t|  8.1411e-07     \t|  272            \t|  0.00022144     \t|  0.00014593     \t|\n",
      "|  [Strategy]SingleDeviceStrategy.on_train_batch_start                                                                                                                  \t|  5.0618e-07     \t|  405            \t|  0.000205       \t|  0.0001351      \t|\n",
      "|  [Callback]ModelCheckpoint{'monitor': 'val_loss', 'mode': 'min', 'every_n_train_steps': 0, 'every_n_epochs': 1, 'train_time_interval': None}.on_validation_batch_start\t|  6.5765e-07     \t|  272            \t|  0.00017888     \t|  0.00011789     \t|\n",
      "|  [Callback]ModelSummary.on_validation_start                                                                                                                           \t|  2.4654e-06     \t|  46             \t|  0.00011341     \t|  7.4739e-05     \t|\n",
      "|  [Callback]ModelSummary.on_validation_end                                                                                                                             \t|  2.0477e-06     \t|  46             \t|  9.4195e-05     \t|  6.2078e-05     \t|\n",
      "|  [Callback]ModelSummary.on_train_epoch_end                                                                                                                            \t|  2.0157e-06     \t|  45             \t|  9.0706e-05     \t|  5.9778e-05     \t|\n",
      "|  [Callback]EarlyStopping{'monitor': 'val_loss', 'mode': 'min'}.on_validation_end                                                                                      \t|  1.9693e-06     \t|  46             \t|  9.0588e-05     \t|  5.9701e-05     \t|\n",
      "|  [Callback]EarlyStopping{'monitor': 'val_loss', 'mode': 'min'}.on_train_epoch_start                                                                                   \t|  1.9338e-06     \t|  45             \t|  8.7023e-05     \t|  5.7351e-05     \t|\n",
      "|  [Callback]EarlyStopping{'monitor': 'val_loss', 'mode': 'min'}.on_validation_epoch_end                                                                                \t|  1.7614e-06     \t|  46             \t|  8.1022e-05     \t|  5.3396e-05     \t|\n",
      "|  [Callback]ModelSummary.on_train_epoch_start                                                                                                                          \t|  1.6148e-06     \t|  45             \t|  7.2668e-05     \t|  4.7891e-05     \t|\n",
      "|  [Callback]EarlyStopping{'monitor': 'val_loss', 'mode': 'min'}.on_validation_start                                                                                    \t|  1.2543e-06     \t|  46             \t|  5.7698e-05     \t|  3.8025e-05     \t|\n",
      "|  [LightningModule]MultiCMPNNLightningModuleClean.on_validation_end                                                                                                    \t|  1.0159e-06     \t|  46             \t|  4.6731e-05     \t|  3.0797e-05     \t|\n",
      "|  [Callback]EarlyStopping{'monitor': 'val_loss', 'mode': 'min'}.on_validation_epoch_start                                                                              \t|  1.0012e-06     \t|  46             \t|  4.6054e-05     \t|  3.0351e-05     \t|\n",
      "|  [Callback]ModelCheckpoint{'monitor': 'val_loss', 'mode': 'min', 'every_n_train_steps': 0, 'every_n_epochs': 1, 'train_time_interval': None}.on_validation_start      \t|  8.2779e-07     \t|  46             \t|  3.8078e-05     \t|  2.5095e-05     \t|\n",
      "|  [LightningModule]MultiCMPNNLightningModuleClean.on_validation_start                                                                                                  \t|  8.0698e-07     \t|  46             \t|  3.7121e-05     \t|  2.4464e-05     \t|\n",
      "|  [Callback]TQDMProgressBar.on_validation_epoch_start                                                                                                                  \t|  7.8111e-07     \t|  46             \t|  3.5931e-05     \t|  2.368e-05      \t|\n",
      "|  [Callback]ModelCheckpoint{'monitor': 'val_loss', 'mode': 'min', 'every_n_train_steps': 0, 'every_n_epochs': 1, 'train_time_interval': None}.on_train_epoch_start     \t|  7.5413e-07     \t|  45             \t|  3.3936e-05     \t|  2.2365e-05     \t|\n",
      "|  [LightningModule]MultiCMPNNLightningModuleClean.on_train_epoch_start                                                                                                 \t|  7.5345e-07     \t|  45             \t|  3.3905e-05     \t|  2.2345e-05     \t|\n",
      "|  [Callback]TQDMProgressBar.on_validation_epoch_end                                                                                                                    \t|  6.9193e-07     \t|  46             \t|  3.1829e-05     \t|  2.0976e-05     \t|\n",
      "|  [Strategy]SingleDeviceStrategy.on_validation_end                                                                                                                     \t|  6.7102e-07     \t|  46             \t|  3.0867e-05     \t|  2.0342e-05     \t|\n",
      "|  [Callback]ModelCheckpoint{'monitor': 'val_loss', 'mode': 'min', 'every_n_train_steps': 0, 'every_n_epochs': 1, 'train_time_interval': None}.on_validation_epoch_start\t|  6.4809e-07     \t|  46             \t|  2.9812e-05     \t|  1.9647e-05     \t|\n",
      "|  [Strategy]SingleDeviceStrategy.on_validation_start                                                                                                                   \t|  6.3539e-07     \t|  46             \t|  2.9228e-05     \t|  1.9262e-05     \t|\n",
      "|  [Callback]ModelCheckpoint{'monitor': 'val_loss', 'mode': 'min', 'every_n_train_steps': 0, 'every_n_epochs': 1, 'train_time_interval': None}.on_validation_epoch_end  \t|  6.1266e-07     \t|  46             \t|  2.8182e-05     \t|  1.8573e-05     \t|\n",
      "|  [Callback]ModelSummary.on_validation_epoch_start                                                                                                                     \t|  6.0887e-07     \t|  46             \t|  2.8008e-05     \t|  1.8458e-05     \t|\n",
      "|  [LightningModule]MultiCMPNNLightningModuleClean.on_validation_epoch_start                                                                                            \t|  5.9219e-07     \t|  46             \t|  2.7241e-05     \t|  1.7953e-05     \t|\n",
      "|  [Callback]ModelSummary.on_validation_epoch_end                                                                                                                       \t|  5.7422e-07     \t|  46             \t|  2.6414e-05     \t|  1.7408e-05     \t|\n",
      "|  [Callback]EarlyStopping{'monitor': 'val_loss', 'mode': 'min'}.on_save_checkpoint                                                                                     \t|  1.6902e-06     \t|  5              \t|  8.4509e-06     \t|  5.5694e-06     \t|\n",
      "|  [Callback]EarlyStopping{'monitor': 'val_loss', 'mode': 'min'}.setup                                                                                                  \t|  4.591e-06      \t|  1              \t|  4.591e-06      \t|  3.0256e-06     \t|\n",
      "|  [Callback]ModelCheckpoint{'monitor': 'val_loss', 'mode': 'min', 'every_n_train_steps': 0, 'every_n_epochs': 1, 'train_time_interval': None}.on_save_checkpoint       \t|  8.0479e-07     \t|  5              \t|  4.024e-06      \t|  2.6519e-06     \t|\n",
      "|  [Callback]TQDMProgressBar.on_save_checkpoint                                                                                                                         \t|  7.2659e-07     \t|  5              \t|  3.633e-06      \t|  2.3942e-06     \t|\n",
      "|  [Callback]TQDMProgressBar.setup                                                                                                                                      \t|  3.622e-06      \t|  1              \t|  3.622e-06      \t|  2.387e-06      \t|\n",
      "|  [Callback]ModelCheckpoint{'monitor': 'val_loss', 'mode': 'min', 'every_n_train_steps': 0, 'every_n_epochs': 1, 'train_time_interval': None}.on_fit_start             \t|  3.525e-06      \t|  1              \t|  3.525e-06      \t|  2.3231e-06     \t|\n",
      "|  [Callback]EarlyStopping{'monitor': 'val_loss', 'mode': 'min'}.on_sanity_check_start                                                                                  \t|  3.47e-06       \t|  1              \t|  3.47e-06       \t|  2.2868e-06     \t|\n",
      "|  [LightningModule]MultiCMPNNLightningModuleClean.configure_callbacks                                                                                                  \t|  3.38e-06       \t|  1              \t|  3.38e-06       \t|  2.2275e-06     \t|\n",
      "|  [Callback]ModelSummary.on_save_checkpoint                                                                                                                            \t|  6.6401e-07     \t|  5              \t|  3.32e-06       \t|  2.188e-06      \t|\n",
      "|  [Callback]TQDMProgressBar.on_sanity_check_end                                                                                                                        \t|  2.759e-06      \t|  1              \t|  2.759e-06      \t|  1.8183e-06     \t|\n",
      "|  [LightningModule]MultiCMPNNLightningModuleClean.on_save_checkpoint                                                                                                   \t|  5.4541e-07     \t|  5              \t|  2.727e-06      \t|  1.7972e-06     \t|\n",
      "|  [Callback]ModelSummary.on_sanity_check_start                                                                                                                         \t|  2.727e-06      \t|  1              \t|  2.727e-06      \t|  1.7972e-06     \t|\n",
      "|  [Callback]ModelSummary.on_train_start                                                                                                                                \t|  2.618e-06      \t|  1              \t|  2.618e-06      \t|  1.7254e-06     \t|\n",
      "|  [Callback]EarlyStopping{'monitor': 'val_loss', 'mode': 'min'}.on_fit_end                                                                                             \t|  2.184e-06      \t|  1              \t|  2.184e-06      \t|  1.4393e-06     \t|\n",
      "|  [Callback]EarlyStopping{'monitor': 'val_loss', 'mode': 'min'}.on_train_end                                                                                           \t|  2.091e-06      \t|  1              \t|  2.091e-06      \t|  1.378e-06      \t|\n",
      "|  [Callback]EarlyStopping{'monitor': 'val_loss', 'mode': 'min'}.on_fit_start                                                                                           \t|  2.072e-06      \t|  1              \t|  2.072e-06      \t|  1.3655e-06     \t|\n",
      "|  [Callback]EarlyStopping{'monitor': 'val_loss', 'mode': 'min'}.on_sanity_check_end                                                                                    \t|  1.699e-06      \t|  1              \t|  1.699e-06      \t|  1.1197e-06     \t|\n",
      "|  [Callback]EarlyStopping{'monitor': 'val_loss', 'mode': 'min'}.on_train_start                                                                                         \t|  1.658e-06      \t|  1              \t|  1.658e-06      \t|  1.0927e-06     \t|\n",
      "|  [Callback]ModelCheckpoint{'monitor': 'val_loss', 'mode': 'min', 'every_n_train_steps': 0, 'every_n_epochs': 1, 'train_time_interval': None}.on_train_start           \t|  1.526e-06      \t|  1              \t|  1.526e-06      \t|  1.0057e-06     \t|\n",
      "|  [Callback]ModelSummary.on_train_end                                                                                                                                  \t|  1.52e-06       \t|  1              \t|  1.52e-06       \t|  1.0017e-06     \t|\n",
      "|  [Callback]ModelSummary.setup                                                                                                                                         \t|  1.429e-06      \t|  1              \t|  1.429e-06      \t|  9.4176e-07     \t|\n",
      "|  [LightningModule]MultiCMPNNLightningModuleClean.on_train_end                                                                                                         \t|  1.35e-06       \t|  1              \t|  1.35e-06       \t|  8.897e-07      \t|\n",
      "|  [LightningModule]MultiCMPNNLightningModuleClean.setup                                                                                                                \t|  1.251e-06      \t|  1              \t|  1.251e-06      \t|  8.2445e-07     \t|\n",
      "|  [Callback]EarlyStopping{'monitor': 'val_loss', 'mode': 'min'}.teardown                                                                                               \t|  1.162e-06      \t|  1              \t|  1.162e-06      \t|  7.658e-07      \t|\n",
      "|  [LightningModule]MultiCMPNNLightningModuleClean.on_fit_start                                                                                                         \t|  9.73e-07       \t|  1              \t|  9.73e-07       \t|  6.4124e-07     \t|\n",
      "|  [LightningModule]MultiCMPNNLightningModuleClean.on_fit_end                                                                                                           \t|  9.4599e-07     \t|  1              \t|  9.4599e-07     \t|  6.2344e-07     \t|\n",
      "|  [LightningModule]MultiCMPNNLightningModuleClean.on_train_start                                                                                                       \t|  8.95e-07       \t|  1              \t|  8.95e-07       \t|  5.8984e-07     \t|\n",
      "|  [LightningModule]MultiCMPNNLightningModuleClean.teardown                                                                                                             \t|  8.5699e-07     \t|  1              \t|  8.5699e-07     \t|  5.6479e-07     \t|\n",
      "|  [Callback]TQDMProgressBar.on_fit_end                                                                                                                                 \t|  8.28e-07       \t|  1              \t|  8.28e-07       \t|  5.4568e-07     \t|\n",
      "|  [Callback]TQDMProgressBar.teardown                                                                                                                                   \t|  8.2399e-07     \t|  1              \t|  8.2399e-07     \t|  5.4304e-07     \t|\n",
      "|  [Callback]TQDMProgressBar.on_fit_start                                                                                                                               \t|  7.7998e-07     \t|  1              \t|  7.7998e-07     \t|  5.1403e-07     \t|\n",
      "|  [Callback]ModelCheckpoint{'monitor': 'val_loss', 'mode': 'min', 'every_n_train_steps': 0, 'every_n_epochs': 1, 'train_time_interval': None}.on_fit_end               \t|  7.3097e-07     \t|  1              \t|  7.3097e-07     \t|  4.8173e-07     \t|\n",
      "|  [Callback]ModelCheckpoint{'monitor': 'val_loss', 'mode': 'min', 'every_n_train_steps': 0, 'every_n_epochs': 1, 'train_time_interval': None}.on_sanity_check_start    \t|  7.2201e-07     \t|  1              \t|  7.2201e-07     \t|  4.7583e-07     \t|\n",
      "|  [Strategy]SingleDeviceStrategy.on_train_start                                                                                                                        \t|  7.0501e-07     \t|  1              \t|  7.0501e-07     \t|  4.6463e-07     \t|\n",
      "|  [Strategy]SingleDeviceStrategy.on_train_end                                                                                                                          \t|  6.8598e-07     \t|  1              \t|  6.8598e-07     \t|  4.5208e-07     \t|\n",
      "|  [Callback]ModelSummary.teardown                                                                                                                                      \t|  6.5303e-07     \t|  1              \t|  6.5303e-07     \t|  4.3037e-07     \t|\n",
      "|  [Callback]ModelCheckpoint{'monitor': 'val_loss', 'mode': 'min', 'every_n_train_steps': 0, 'every_n_epochs': 1, 'train_time_interval': None}.on_sanity_check_end      \t|  6.39e-07       \t|  1              \t|  6.39e-07       \t|  4.2112e-07     \t|\n",
      "|  [Callback]ModelCheckpoint{'monitor': 'val_loss', 'mode': 'min', 'every_n_train_steps': 0, 'every_n_epochs': 1, 'train_time_interval': None}.on_train_end             \t|  6.1799e-07     \t|  1              \t|  6.1799e-07     \t|  4.0728e-07     \t|\n",
      "|  [Callback]ModelSummary.on_fit_end                                                                                                                                    \t|  6.17e-07       \t|  1              \t|  6.17e-07       \t|  4.0662e-07     \t|\n",
      "|  [Callback]ModelCheckpoint{'monitor': 'val_loss', 'mode': 'min', 'every_n_train_steps': 0, 'every_n_epochs': 1, 'train_time_interval': None}.teardown                 \t|  5.9599e-07     \t|  1              \t|  5.9599e-07     \t|  3.9278e-07     \t|\n",
      "|  [Callback]ModelSummary.on_sanity_check_end                                                                                                                           \t|  5.5699e-07     \t|  1              \t|  5.5699e-07     \t|  3.6707e-07     \t|\n",
      "----------------------------------------------------------------------------------------------------------------------------------------------------------------------------------------------------------------------------------------------------------------------------------\n",
      "\n"
     ]
    },
    {
     "name": "stdout",
     "output_type": "stream",
     "text": [
      "[DEBUG] MAE: 88.93° | >45° Errors: 815 | >90° Errors: 531\n"
     ]
    }
   ],
   "source": [
    "from pytorch_lightning.loggers import CSVLogger\n",
    "from pytorch_lightning.profilers import AdvancedProfiler\n",
    "import torch\n",
    "torch.backends.cuda.matmul.allow_tf32 = True\n",
    "torch.backends.cudnn.allow_tf32   = True\n",
    "\n",
    "logger = CSVLogger(\n",
    "    save_dir=\"logs\",\n",
    "    name=\"multi_cmpnn\",            # creates logs/multi_cmpnn/{version}\n",
    ")\n",
    "\n",
    "trainer = pl.Trainer(\n",
    "    max_epochs=1500,\n",
    "    accelerator='gpu',\n",
    "    devices=1,\n",
    "    logger=logger,\n",
    "    callbacks=[\n",
    "        pl.callbacks.ModelCheckpoint(\n",
    "            monitor=\"val_loss\",\n",
    "            mode=\"min\",\n",
    "            save_top_k=1,\n",
    "            dirpath=\"checkpoints/\",\n",
    "            filename=\"best_model\",\n",
    "            save_on_train_epoch_end=False,\n",
    "        ),\n",
    "        # weight_cb,\n",
    "\n",
    "        pl.callbacks.EarlyStopping(\n",
    "            monitor=\"val_loss\",\n",
    "            patience=40,\n",
    "            mode=\"min\",\n",
    "        ),\n",
    "    \n",
    "    ],\n",
    "    log_every_n_steps=20,\n",
    "    gradient_clip_val=1.0,\n",
    "    gradient_clip_algorithm='norm',\n",
    "    # precision=16, \n",
    "profiler=\"simple\",\n",
    ")\n",
    "\n",
    "trainer.fit(\n",
    "    model,\n",
    "    train_dataloaders=train_loader,\n",
    "    val_dataloaders=val_loader,\n",
    ")"
   ]
  },
  {
   "cell_type": "code",
   "execution_count": null,
   "metadata": {},
   "outputs": [],
   "source": []
  },
  {
   "cell_type": "code",
   "execution_count": 82,
   "metadata": {},
   "outputs": [],
   "source": [
    "# Get the y values from train_ds\n",
    "y_train = []\n",
    "for datapoint in train_ds:\n",
    "    molecule = datapoint[0]  # assuming first molecule in multimol\n",
    "    cos_val, sin_val = molecule.y[0], molecule.y[1]\n",
    "    y_train.append((cos_val, sin_val))\n",
    "y_train = torch.tensor(y_train)"
   ]
  },
  {
   "cell_type": "code",
   "execution_count": 121,
   "metadata": {},
   "outputs": [
    {
     "data": {
      "image/png": "[encoded data removed]",
      "text/plain": [
       "<Figure size 1000x600 with 1 Axes>"
      ]
     },
     "metadata": {},
     "output_type": "display_data"
    }
   ],
   "source": [
    "# Now need to transform the y_train (cos, sin) to the degrees\n",
    "theta_train = torch.atan2(y_train[:, 1], y_train[:, 0])  # in radians\n",
    "theta_train = torch.rad2deg(theta_train)  # convert to degrees\n",
    "# Wrap into [-180, 180]\n",
    "theta_train = (theta_train + 180) % 360 - 180\n",
    "\n",
    "# Graph them \n",
    "import matplotlib.pyplot as plt\n",
    "import numpy as np\n",
    "import seaborn as sns\n",
    "\n",
    "# Set the style\n",
    "sns.set(style=\"whitegrid\")\n",
    "\n",
    "# Create a figure and axis\n",
    "fig, ax = plt.subplots(figsize=(10, 6))\n",
    "# Create a histogram\n",
    "sns.histplot(theta_train.numpy(), bins=30, kde=True, color='blue', ax=ax)\n",
    "# Set the title and labels\n",
    "ax.set_title('Distribution of Torsion Angles in Training Set', fontsize=16)\n",
    "ax.set_xlabel('Torsion Angle (degrees)', fontsize=14)\n",
    "ax.set_ylabel('Frequency', fontsize=14)\n",
    "# Show the plot\n",
    "plt.show()"
   ]
  },
  {
   "cell_type": "code",
   "execution_count": 122,
   "metadata": {},
   "outputs": [
    {
     "data": {
      "image/png": "[encoded data removed]",
      "text/plain": [
       "<Figure size 1000x600 with 1 Axes>"
      ]
     },
     "metadata": {},
     "output_type": "display_data"
    }
   ],
   "source": [
    "# Do the same for validation set\n",
    "y_val = []\n",
    "for datapoint in val_ds:\n",
    "    molecule = datapoint[0]  # assuming first molecule in multimol\n",
    "    cos_val, sin_val = molecule.y[0], molecule.y[1]\n",
    "    y_val.append((cos_val, sin_val))\n",
    "\n",
    "y_val = torch.tensor(y_val)\n",
    "\n",
    "# Now need to transform the y_val (cos, sin) to the degrees\n",
    "theta_val = torch.atan2(y_val[:, 1], y_val[:, 0])  # in radians\n",
    "theta_val = torch.rad2deg(theta_val)  # convert to degrees\n",
    "# Wrap into [-180, 180]\n",
    "theta_val = (theta_val + 180) % 360 - 180\n",
    "# Graph them\n",
    "# Create a figure and axis\n",
    "fig, ax = plt.subplots(figsize=(10, 6))\n",
    "# Create a histogram\n",
    "sns.histplot(theta_val.numpy(), bins=30, kde=True, color='red', ax=ax)\n",
    "# Set the title and labels\n",
    "ax.set_title('Distribution of Torsion Angles in Validation Set', fontsize=16)\n",
    "ax.set_xlabel('Torsion Angle (degrees)', fontsize=14)\n",
    "ax.set_ylabel('Frequency', fontsize=14)\n",
    "# Show the plot\n",
    "plt.show()"
   ]
  },
  {
   "cell_type": "code",
   "execution_count": 123,
   "metadata": {},
   "outputs": [
    {
     "name": "stdout",
     "output_type": "stream",
     "text": [
      "Bins present in val but *absent* in train:\n"
     ]
    }
   ],
   "source": [
    "import numpy as np\n",
    "\n",
    "# assume you have two 1-D numpy arrays of shape (N,)\n",
    "#   train_angles_deg – all the true torsion angles (in degrees) used to *train* on\n",
    "#   val_angles_deg   – all the true torsion angles (in degrees) held out for *validation*\n",
    "\n",
    "# 1) choose your bin edges\n",
    "bins = np.linspace(-180, +180, 37)   # 10° bins\n",
    "\n",
    "# 2) histogram each\n",
    "train_counts, _ = np.histogram(theta_train, bins=bins)\n",
    "val_counts,   _ = np.histogram(theta_val,   bins=bins)\n",
    "\n",
    "# 3) find any bins where val has >0 examples but train has 0\n",
    "missing_bins = []\n",
    "for i in range(len(bins)-1):\n",
    "    if val_counts[i] > 0 and train_counts[i] == 0:\n",
    "        missing_bins.append((bins[i], bins[i+1], val_counts[i]))\n",
    "\n",
    "print(\"Bins present in val but *absent* in train:\")\n",
    "for lo, hi, cnt in missing_bins:\n",
    "    print(f\"  {lo:6.1f}° → {hi:6.1f}°    ({cnt} val samples)\")\n"
   ]
  },
  {
   "cell_type": "code",
   "execution_count": 124,
   "metadata": {},
   "outputs": [],
   "source": [
    "\n",
    "# 1) choose your bin edges\n",
    "bins = np.linspace(-180, +180, 128)   # 10°‐wide bins\n",
    "\n",
    "# 2) histogram each\n",
    "train_counts, _ = np.histogram(theta_train, bins=bins)\n",
    "val_counts,   _ = np.histogram(theta_val,   bins=bins)\n",
    "\n",
    "# 3) compute the ratio\n",
    "ratio = val_counts / (train_counts + 1e-8)   # tiny eps to avoid div0\n",
    "\n",
    "# 4) print any bins where validation >> training\n",
    "for i in range(len(bins)-1):\n",
    "    if ratio[i] > 5:   # here “5× more val samples than train”\n",
    "        lo, hi = bins[i], bins[i+1]\n",
    "        print(f\"Bin {lo:6.1f}°→{hi:6.1f}°    train={train_counts[i]:3d}  val={val_counts[i]:3d}  ratio={ratio[i]:.1f}\")"
   ]
  },
  {
   "cell_type": "code",
   "execution_count": null,
   "metadata": {},
   "outputs": [],
   "source": [
    "plt.hist(theta_pred.numpy(), bins=36, range=(-180,180))\n",
    "plt.title(f\"Predicted Angle Distribution (epoch {self.current_epoch})\")\n",
    "plt.close()"
   ]
  },
  {
   "cell_type": "code",
   "execution_count": null,
   "metadata": {},
   "outputs": [],
   "source": []
  },
  {
   "cell_type": "code",
   "execution_count": null,
   "metadata": {},
   "outputs": [],
   "source": []
  }
 ],
 "metadata": {
  "kernelspec": {
   "display_name": "dmpnn_rocm",
   "language": "python",
   "name": "python3"
  },
  "language_info": {
   "codemirror_mode": {
    "name": "ipython",
    "version": 3
   },
   "file_extension": ".py",
   "mimetype": "text/x-python",
   "name": "python",
   "nbconvert_exporter": "python",
   "pygments_lexer": "ipython3",
   "version": "3.10.16"
  }
 },
 "nbformat": 4,
 "nbformat_minor": 2
}
