{
 "cells": [
  {
   "cell_type": "code",
   "execution_count": 7,
   "id": "e8cad9af",
   "metadata": {},
   "outputs": [],
   "source": [
    "import os\n",
    "import glob\n",
    "import imageio\n",
    "import cv2\n",
    "import numpy as np\n",
    "\n",
    "def create_animation(log_dir, output_name=\"scatter_animation.mp4\", fps=10):\n",
    "    \"\"\"\n",
    "    Create an animation (GIF or MP4) from saved scatter plots without cropping.\n",
    "    Args:\n",
    "        log_dir (str): The base log folder (e.g., logs/multi_cmpnn/version_0)\n",
    "        output_name (str): Output filename (.gif or .mp4)\n",
    "        fps (int): Frames per second\n",
    "    \"\"\"\n",
    "    # image_dir = os.path.join(log_dir, \"images\")\n",
    "    # output_path = os.path.join(log_dir, output_name)\n",
    "    image_dir = log_dir  \n",
    "    output_path = os.path.join(log_dir, output_name)\n",
    "    scatter_files = sorted(glob.glob(os.path.join(image_dir, \"jiggle_epoch_*.png\")))\n",
    "    if not scatter_files:\n",
    "        print(\"No scatter images found!\")\n",
    "        return\n",
    "\n",
    "    frames = []\n",
    "    for idx, img_path in enumerate(scatter_files):\n",
    "        img = cv2.imread(img_path)\n",
    "        if img is None:\n",
    "            continue\n",
    "\n",
    "        h, w, _ = img.shape\n",
    "\n",
    "        # Resize proportionally to fit inside a 640x480 canvas\n",
    "        target_w, target_h = 1920, 1080\n",
    "        scale = min(target_w / w, target_h / h)\n",
    "        new_w, new_h = int(w * scale), int(h * scale)\n",
    "        resized = cv2.resize(img, (new_w, new_h))\n",
    "\n",
    "        # Create white canvas and center the resized image\n",
    "        canvas = 255 * np.ones((target_h, target_w, 3), dtype=np.uint8)\n",
    "        x_offset = (target_w - new_w) // 2\n",
    "        y_offset = (target_h - new_h) // 2\n",
    "        canvas[y_offset:y_offset+new_h, x_offset:x_offset+new_w] = resized\n",
    "\n",
    "        # Add epoch label\n",
    "        font_scale = 1\n",
    "        thickness = 2\n",
    "        text = f\"Epoch {idx * 10}\"\n",
    "        (text_w, text_h), _ = cv2.getTextSize(text, cv2.FONT_HERSHEY_SIMPLEX, font_scale, thickness)\n",
    "        cv2.putText(\n",
    "            canvas,\n",
    "            text,\n",
    "            (10, text_h + 10),\n",
    "            cv2.FONT_HERSHEY_SIMPLEX,\n",
    "            font_scale,\n",
    "            (0, 0, 0),\n",
    "            thickness,\n",
    "            cv2.LINE_AA\n",
    "        )\n",
    "\n",
    "        frames.append(canvas)\n",
    "\n",
    "    if not frames:\n",
    "        print(\"No valid frames found!\")\n",
    "        return\n",
    "\n",
    "    if output_name.endswith(\".mp4\"):\n",
    "        fourcc = cv2.VideoWriter_fourcc(*'mp4v')\n",
    "        height, width, _ = frames[0].shape\n",
    "        out = cv2.VideoWriter(output_path, fourcc, fps, (width, height))\n",
    "        for frame in frames:\n",
    "            out.write(frame)\n",
    "        out.release()\n",
    "        print(f\"Saved MP4 animation to: {output_path}\")\n",
    "\n",
    "    elif output_name.endswith(\".gif\"):\n",
    "        frames_rgb = [cv2.cvtColor(f, cv2.COLOR_BGR2RGB) for f in frames]\n",
    "        imageio.mimsave(output_path, frames_rgb, fps=fps)\n",
    "        print(f\"Saved GIF animation to: {output_path}\")\n",
    "\n",
    "    else:\n",
    "        raise ValueError(\"Output filename must end with .gif or .mp4\")\n"
   ]
  },
  {
   "cell_type": "code",
   "execution_count": 8,
   "id": "64240c6d",
   "metadata": {},
   "outputs": [
    {
     "name": "stdout",
     "output_type": "stream",
     "text": [
      "Saved GIF animation to: /home/calvin/code/cmpnn_revised/scripts/logs/multi_cmpnn/version_234/jiggle_monitor/jiggle.gif\n"
     ]
    }
   ],
   "source": [
    "create_animation(log_dir=\"/home/calvin/code/cmpnn_revised/scripts/logs/multi_cmpnn/version_234/jiggle_monitor\",\n",
    "                output_name=\"jiggle.gif\", fps=5)"
   ]
  },
  {
   "cell_type": "code",
   "execution_count": null,
   "id": "714c9b5e",
   "metadata": {},
   "outputs": [],
   "source": []
  }
 ],
 "metadata": {
  "kernelspec": {
   "display_name": "dmpnn_rocm",
   "language": "python",
   "name": "python3"
  },
  "language_info": {
   "codemirror_mode": {
    "name": "ipython",
    "version": 3
   },
   "file_extension": ".py",
   "mimetype": "text/x-python",
   "name": "python",
   "nbconvert_exporter": "python",
   "pygments_lexer": "ipython3",
   "version": "3.10.16"
  }
 },
 "nbformat": 4,
 "nbformat_minor": 5
}
