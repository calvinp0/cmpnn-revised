{
 "cells": [
  {
   "cell_type": "code",
   "execution_count": 2,
   "id": "e43e1d25",
   "metadata": {},
   "outputs": [],
   "source": [
    "from rdkit import Chem\n",
    "import py3Dmol"
   ]
  },
  {
   "cell_type": "code",
   "execution_count": 3,
   "id": "1ae98e4f",
   "metadata": {},
   "outputs": [],
   "source": [
    "def show_sticks_from_sdf(mol: Chem.Mol, show_atom_indices: bool = False) -> bool:\n",
    "\n",
    "    mb = Chem.MolToMolBlock(mol)\n",
    "    p = py3Dmol.view(width=800, height=800)\n",
    "    p.addModel(mb, 'sdf')\n",
    "    p.setStyle({'stick': {}})\n",
    "    if show_atom_indices:\n",
    "        p.addPropertyLabels(\"index\", \"\",\n",
    "                            {'fontSize': 15,\n",
    "                             'fontColor': 'white',\n",
    "                             'alignment': 'center',\n",
    "                             'showBackground': True,\n",
    "                             'backgroundOpacity': 0.2,\n",
    "                             'backgroundColor': 'black'})\n",
    "    p.zoomTo()\n",
    "    p.show()\n",
    "    return True"
   ]
  },
  {
   "cell_type": "code",
   "execution_count": 4,
   "id": "7020fa77",
   "metadata": {},
   "outputs": [],
   "source": [
    "from rdkit import Chem\n",
    "\n",
    "def load_mol_from_sdf_file(sdf_path: str):\n",
    "    suppl = Chem.SDMolSupplier(sdf_path, removeHs=False)\n",
    "    mol = suppl[-1] if suppl and suppl[-1] is not None else None\n",
    "    return mol\n"
   ]
  },
  {
   "cell_type": "code",
   "execution_count": 5,
   "id": "9b984dae",
   "metadata": {},
   "outputs": [],
   "source": [
    "ts = load_mol_from_sdf_file(\"/home/calvin/code/chemprop_phd_customised/habnet/data/processed/sdf_data/rmg_rxn_2.sdf\")"
   ]
  },
  {
   "cell_type": "code",
   "execution_count": 6,
   "id": "48a923b1",
   "metadata": {},
   "outputs": [
    {
     "data": {
      "application/3dmoljs_load.v0": "<div id=\"3dmolviewer_17452316619595935\"  style=\"position: relative; width: 800px; height: 800px;\">\n        <p id=\"3dmolwarning_17452316619595935\" style=\"background-color:#ffcccc;color:black\">3Dmol.js failed to load for some reason.  Please check your browser console for error messages.<br></p>\n        </div>\n<script>\n\nvar loadScriptAsync = function(uri){\n  return new Promise((resolve, reject) => {\n    //this is to ignore the existence of requirejs amd\n    var savedexports, savedmodule;\n    if (typeof exports !== 'undefined') savedexports = exports;\n    else exports = {}\n    if (typeof module !== 'undefined') savedmodule = module;\n    else module = {}\n\n    var tag = document.createElement('script');\n    tag.src = uri;\n    tag.async = true;\n    tag.onload = () => {\n        exports = savedexports;\n        module = savedmodule;\n        resolve();\n    };\n  var firstScriptTag = document.getElementsByTagName('script')[0];\n  firstScriptTag.parentNode.insertBefore(tag, firstScriptTag);\n});\n};\n\nif(typeof $3Dmolpromise === 'undefined') {\n$3Dmolpromise = null;\n  $3Dmolpromise = loadScriptAsync('https://cdnjs.cloudflare.com/ajax/libs/3Dmol/2.4.2/3Dmol-min.js');\n}\n\nvar viewer_17452316619595935 = null;\nvar warn = document.getElementById(\"3dmolwarning_17452316619595935\");\nif(warn) {\n    warn.parentNode.removeChild(warn);\n}\n$3Dmolpromise.then(function() {\nviewer_17452316619595935 = $3Dmol.createViewer(document.getElementById(\"3dmolviewer_17452316619595935\"),{backgroundColor:\"white\"});\nviewer_17452316619595935.zoomTo();\n\tviewer_17452316619595935.addModel(\"\\n     RDKit          3D\\n\\n 13 11  0  0  0  0  0  0  0  0999 V2000\\n   -0.5854    0.6484    1.2169 N   0  0  0  0  0  2  0  0  0  0  0  0\\n   -0.4770   -0.5183    1.7240 N   0  0  0  0  0  0  0  0  0  0  0  0\\n   -1.2858   -1.1252    1.7715 H   0  0  0  0  0  0  0  0  0  0  0  0\\n    0.3795   -0.8618    2.1501 H   0  0  0  0  0  0  0  0  0  0  0  0\\n   -0.3341   -0.4032   -2.0983 C   0  0  0  0  0  0  0  0  0  0  0  0\\n    0.8354   -0.4764   -1.1073 C   0  0  0  0  0  0  0  0  0  0  0  0\\n    1.0734    0.7805   -0.5094 N   0  0  0  0  0  1  0  0  0  0  0  0\\n   -0.1286    0.3295   -2.8783 H   0  0  0  0  0  0  0  0  0  0  0  0\\n   -0.4910   -1.3766   -2.5652 H   0  0  0  0  0  0  0  0  0  0  0  0\\n   -1.2448   -0.1062   -1.5772 H   0  0  0  0  0  0  0  0  0  0  0  0\\n    1.7435   -0.8136   -1.6243 H   0  0  0  0  0  0  0  0  0  0  0  0\\n    0.5983   -1.2438   -0.3438 H   0  0  0  0  0  0  0  0  0  0  0  0\\n    0.3694    0.9391    0.6247 H   0  0  0  0  0  0  0  0  0  0  0  0\\n  1  2  1  0\\n  1 13  1  0\\n  2  3  1  0\\n  2  4  1  0\\n  5  6  1  0\\n  5  8  1  0\\n  5  9  1  0\\n  5 10  1  0\\n  6  7  1  0\\n  6 11  1  0\\n  6 12  1  0\\nM  RAD  2   1   2   7   3\\nM  END\\n\",\"sdf\");\n\tviewer_17452316619595935.setStyle({\"stick\": {}});\n\tviewer_17452316619595935.addPropertyLabels(\"index\",\"\",{\"fontSize\": 15, \"fontColor\": \"white\", \"alignment\": \"center\", \"showBackground\": true, \"backgroundOpacity\": 0.2, \"backgroundColor\": \"black\"});\n\tviewer_17452316619595935.zoomTo();\nviewer_17452316619595935.render();\n});\n</script>",
      "text/html": [
       "<div id=\"3dmolviewer_17452316619595935\"  style=\"position: relative; width: 800px; height: 800px;\">\n",
       "        <p id=\"3dmolwarning_17452316619595935\" style=\"background-color:#ffcccc;color:black\">3Dmol.js failed to load for some reason.  Please check your browser console for error messages.<br></p>\n",
       "        </div>\n",
       "<script>\n",
       "\n",
       "var loadScriptAsync = function(uri){\n",
       "  return new Promise((resolve, reject) => {\n",
       "    //this is to ignore the existence of requirejs amd\n",
       "    var savedexports, savedmodule;\n",
       "    if (typeof exports !== 'undefined') savedexports = exports;\n",
       "    else exports = {}\n",
       "    if (typeof module !== 'undefined') savedmodule = module;\n",
       "    else module = {}\n",
       "\n",
       "    var tag = document.createElement('script');\n",
       "    tag.src = uri;\n",
       "    tag.async = true;\n",
       "    tag.onload = () => {\n",
       "        exports = savedexports;\n",
       "        module = savedmodule;\n",
       "        resolve();\n",
       "    };\n",
       "  var firstScriptTag = document.getElementsByTagName('script')[0];\n",
       "  firstScriptTag.parentNode.insertBefore(tag, firstScriptTag);\n",
       "});\n",
       "};\n",
       "\n",
       "if(typeof $3Dmolpromise === 'undefined') {\n",
       "$3Dmolpromise = null;\n",
       "  $3Dmolpromise = loadScriptAsync('https://cdnjs.cloudflare.com/ajax/libs/3Dmol/2.4.2/3Dmol-min.js');\n",
       "}\n",
       "\n",
       "var viewer_17452316619595935 = null;\n",
       "var warn = document.getElementById(\"3dmolwarning_17452316619595935\");\n",
       "if(warn) {\n",
       "    warn.parentNode.removeChild(warn);\n",
       "}\n",
       "$3Dmolpromise.then(function() {\n",
       "viewer_17452316619595935 = $3Dmol.createViewer(document.getElementById(\"3dmolviewer_17452316619595935\"),{backgroundColor:\"white\"});\n",
       "viewer_17452316619595935.zoomTo();\n",
       "\tviewer_17452316619595935.addModel(\"\\n     RDKit          3D\\n\\n 13 11  0  0  0  0  0  0  0  0999 V2000\\n   -0.5854    0.6484    1.2169 N   0  0  0  0  0  2  0  0  0  0  0  0\\n   -0.4770   -0.5183    1.7240 N   0  0  0  0  0  0  0  0  0  0  0  0\\n   -1.2858   -1.1252    1.7715 H   0  0  0  0  0  0  0  0  0  0  0  0\\n    0.3795   -0.8618    2.1501 H   0  0  0  0  0  0  0  0  0  0  0  0\\n   -0.3341   -0.4032   -2.0983 C   0  0  0  0  0  0  0  0  0  0  0  0\\n    0.8354   -0.4764   -1.1073 C   0  0  0  0  0  0  0  0  0  0  0  0\\n    1.0734    0.7805   -0.5094 N   0  0  0  0  0  1  0  0  0  0  0  0\\n   -0.1286    0.3295   -2.8783 H   0  0  0  0  0  0  0  0  0  0  0  0\\n   -0.4910   -1.3766   -2.5652 H   0  0  0  0  0  0  0  0  0  0  0  0\\n   -1.2448   -0.1062   -1.5772 H   0  0  0  0  0  0  0  0  0  0  0  0\\n    1.7435   -0.8136   -1.6243 H   0  0  0  0  0  0  0  0  0  0  0  0\\n    0.5983   -1.2438   -0.3438 H   0  0  0  0  0  0  0  0  0  0  0  0\\n    0.3694    0.9391    0.6247 H   0  0  0  0  0  0  0  0  0  0  0  0\\n  1  2  1  0\\n  1 13  1  0\\n  2  3  1  0\\n  2  4  1  0\\n  5  6  1  0\\n  5  8  1  0\\n  5  9  1  0\\n  5 10  1  0\\n  6  7  1  0\\n  6 11  1  0\\n  6 12  1  0\\nM  RAD  2   1   2   7   3\\nM  END\\n\",\"sdf\");\n",
       "\tviewer_17452316619595935.setStyle({\"stick\": {}});\n",
       "\tviewer_17452316619595935.addPropertyLabels(\"index\",\"\",{\"fontSize\": 15, \"fontColor\": \"white\", \"alignment\": \"center\", \"showBackground\": true, \"backgroundOpacity\": 0.2, \"backgroundColor\": \"black\"});\n",
       "\tviewer_17452316619595935.zoomTo();\n",
       "viewer_17452316619595935.render();\n",
       "});\n",
       "</script>"
      ]
     },
     "metadata": {},
     "output_type": "display_data"
    },
    {
     "data": {
      "text/plain": [
       "True"
      ]
     },
     "execution_count": 6,
     "metadata": {},
     "output_type": "execute_result"
    }
   ],
   "source": [
    "show_sticks_from_sdf(ts, show_atom_indices=True)"
   ]
  },
  {
   "cell_type": "code",
   "execution_count": null,
   "id": "2ade6569",
   "metadata": {},
   "outputs": [],
   "source": []
  }
 ],
 "metadata": {
  "kernelspec": {
   "display_name": "dmpnn_rocm",
   "language": "python",
   "name": "python3"
  },
  "language_info": {
   "codemirror_mode": {
    "name": "ipython",
    "version": 3
   },
   "file_extension": ".py",
   "mimetype": "text/x-python",
   "name": "python",
   "nbconvert_exporter": "python",
   "pygments_lexer": "ipython3",
   "version": "3.10.16"
  }
 },
 "nbformat": 4,
 "nbformat_minor": 5
}
