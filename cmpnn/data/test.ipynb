{
 "cells": [
  {
   "cell_type": "code",
   "execution_count": 1,
   "metadata": {},
   "outputs": [],
   "source": [
    "# auto reload changes ipynb\n",
    "# auto reload\n",
    "%load_ext autoreload\n",
    "%autoreload 2\n",
    "import sys\n",
    "\n",
    "sys.path.append(\"/home/calvin/code/cmpnn_revised\")"
   ]
  },
  {
   "cell_type": "code",
   "execution_count": 18,
   "metadata": {},
   "outputs": [],
   "source": [
    "\n",
    "from cmpnn.featurizer.molecule_dataset import MultiMoleculeDataset\n",
    "from cmpnn.featurizer.atom_bond import AtomFeaturizer, BondFeaturizer\n",
    "from cmpnn.featurizer.global_feat import CompositeGlobalFeaturizer, MorganBinaryFeaturizer, RDKit2DNormalizedFeaturizer"
   ]
  },
  {
   "cell_type": "code",
   "execution_count": 22,
   "metadata": {},
   "outputs": [],
   "source": [
    "csv_file = '/home/calvin/code/cmpnn_revised/cmpnn/mol_data/multi_mols.csv'"
   ]
  },
  {
   "cell_type": "code",
   "execution_count": 23,
   "metadata": {},
   "outputs": [
    {
     "name": "stdout",
     "output_type": "stream",
     "text": [
      "Using all atomic numbers from 1 to 100\n",
      "Loading cached dataset from /home/calvin/code/cmpnn_revised/cmpnn/mol_data/multi_mols_cache.pt\n"
     ]
    }
   ],
   "source": [
    "loader = MultiMoleculeDataset(\n",
    "    csv_file=csv_file,\n",
    "    atom_featurizer=AtomFeaturizer(v2=False),\n",
    "    bond_featurizer=BondFeaturizer(v2=False),\n",
    "    global_featurizer=CompositeGlobalFeaturizer(\n",
    "        featurizers=[\n",
    "            MorganBinaryFeaturizer(radius=2, length=1024),\n",
    "            RDKit2DNormalizedFeaturizer()\n",
    "        ]\n",
    "    ),\n",
    "    atom_messages=True\n",
    ")"
   ]
  },
  {
   "cell_type": "code",
   "execution_count": 24,
   "metadata": {},
   "outputs": [
    {
     "data": {
      "text/plain": [
       "[MoleculeData(f_atoms=[24, 133], f_bonds=[54, 14], a2b=[24], b2a=[54], a_scope=[1], b_scope=[1], global_features=[1224], y=[1], bonds=[27, 2], smiles='Cn1c(CN2CCN(CC2)c3ccc(Cl)cc3)nc4ccccc14', b2revb=[54]),\n",
       " MoleculeData(f_atoms=[33, 133], f_bonds=[70, 14], a2b=[33], b2a=[70], a_scope=[1], b_scope=[1], global_features=[1224], y=[1], bonds=[35, 2], smiles='CCN(CCN(C)C)S(=O)(=O)c1ccc(cc1)c2cnc(N)c(n2)C(=O)Nc3cccnc3', b2revb=[70])]"
      ]
     },
     "execution_count": 24,
     "metadata": {},
     "output_type": "execute_result"
    }
   ],
   "source": [
    "loader[0]"
   ]
  },
  {
   "cell_type": "code",
   "execution_count": 25,
   "metadata": {},
   "outputs": [],
   "source": [
    "from torch.utils.data import DataLoader\n",
    "\n",
    "dataloaded = DataLoader(dataset=loader, batch_size=32, collate_fn=multi_collate_fn)"
   ]
  },
  {
   "cell_type": "code",
   "execution_count": 26,
   "metadata": {},
   "outputs": [
    {
     "name": "stdout",
     "output_type": "stream",
     "text": [
      "[from_data_list] Init: 0.0002s | Loop: 0.0148s | Finalize: 0.0023s | Total: 0.0173s\n",
      "[from_data_list] Init: 0.0001s | Loop: 0.0143s | Finalize: 0.0025s | Total: 0.0169s\n",
      "MultiMoleculeDataBatch(n_samples=32, n_components=2)\n"
     ]
    }
   ],
   "source": [
    "for batch in dataloaded:\n",
    "    print(batch)\n",
    "    break"
   ]
  },
  {
   "cell_type": "code",
   "execution_count": 32,
   "metadata": {},
   "outputs": [],
   "source": [
    "from cmpnn.models.lightning import MultiCMPNNLightningModule\n",
    "\n",
    "multi_model = MultiCMPNNLightningModule(\n",
    "    atom_fdim=133,\n",
    "    bond_fdim=14,\n",
    "    global_fdim=1224,\n",
    "    shared_encoder=False,\n",
    "    atom_messages=True,\n",
    "    booster='attention',\n",
    ")"
   ]
  },
  {
   "cell_type": "code",
   "execution_count": 33,
   "metadata": {},
   "outputs": [
    {
     "name": "stderr",
     "output_type": "stream",
     "text": [
      "You are using the plain ModelCheckpoint callback. Consider using LitModelCheckpoint which with seamless uploading to Model registry.\n",
      "GPU available: True (cuda), used: True\n",
      "TPU available: False, using: 0 TPU cores\n",
      "HPU available: False, using: 0 HPUs\n",
      "/home/calvin/miniforge3/envs/dmpnn_rocm/lib/python3.10/site-packages/pytorch_lightning/trainer/configuration_validator.py:70: You defined a `validation_step` but have no `val_dataloader`. Skipping val loop.\n",
      "LOCAL_RANK: 0 - CUDA_VISIBLE_DEVICES: [0]\n",
      "\n",
      "  | Name       | Type           | Params | Mode \n",
      "------------------------------------------------------\n",
      "0 | encoders   | ModuleList     | 663 K  | train\n",
      "1 | aggregator | MeanAggregator | 0      | train\n",
      "2 | bn         | Identity       | 0      | train\n",
      "3 | ffn        | MLP            | 346 K  | train\n",
      "4 | metrics    | ModuleDict     | 0      | train\n",
      "------------------------------------------------------\n",
      "1.0 M     Trainable params\n",
      "0         Non-trainable params\n",
      "1.0 M     Total params\n",
      "4.040     Total estimated model params size (MB)\n",
      "37        Modules in train mode\n",
      "0         Modules in eval mode\n",
      "/home/calvin/miniforge3/envs/dmpnn_rocm/lib/python3.10/site-packages/pytorch_lightning/trainer/connectors/data_connector.py:425: The 'train_dataloader' does not have many workers which may be a bottleneck. Consider increasing the value of the `num_workers` argument` to `num_workers=19` in the `DataLoader` to improve performance.\n",
      "/home/calvin/miniforge3/envs/dmpnn_rocm/lib/python3.10/site-packages/pytorch_lightning/loops/fit_loop.py:310: The number of training batches (4) is smaller than the logging interval Trainer(log_every_n_steps=50). Set a lower value for log_every_n_steps if you want to see logs for the training epoch.\n"
     ]
    },
    {
     "data": {
      "application/vnd.jupyter.widget-view+json": {
       "model_id": "b622e43855de4186ba590889a0e39402",
       "version_major": 2,
       "version_minor": 0
      },
      "text/plain": [
       "Training: |          | 0/? [00:00<?, ?it/s]"
      ]
     },
     "metadata": {},
     "output_type": "display_data"
    },
    {
     "name": "stdout",
     "output_type": "stream",
     "text": [
      "[from_data_list] Init: 0.0002s | Loop: 0.0243s | Finalize: 0.0044s | Total: 0.0289s\n",
      "[from_data_list] Init: 0.0002s | Loop: 0.0167s | Finalize: 0.0031s | Total: 0.0200s\n",
      "[from_data_list] Init: 0.0001s | Loop: 0.0140s | Finalize: 0.0024s | Total: 0.0165s\n",
      "[from_data_list] Init: 0.0001s | Loop: 0.0141s | Finalize: 0.0022s | Total: 0.0164s\n",
      "[from_data_list] Init: 0.0001s | Loop: 0.0142s | Finalize: 0.0023s | Total: 0.0166s\n",
      "[from_data_list] Init: 0.0001s | Loop: 0.0144s | Finalize: 0.0023s | Total: 0.0169s\n",
      "[from_data_list] Init: 0.0001s | Loop: 0.0020s | Finalize: 0.0005s | Total: 0.0026s\n",
      "[from_data_list] Init: 0.0001s | Loop: 0.0017s | Finalize: 0.0003s | Total: 0.0021s\n",
      "[from_data_list] Init: 0.0002s | Loop: 0.0145s | Finalize: 0.0026s | Total: 0.0173s\n",
      "[from_data_list] Init: 0.0001s | Loop: 0.0142s | Finalize: 0.0023s | Total: 0.0167s\n",
      "[from_data_list] Init: 0.0001s | Loop: 0.0141s | Finalize: 0.0023s | Total: 0.0166s\n",
      "[from_data_list] Init: 0.0001s | Loop: 0.0139s | Finalize: 0.0025s | Total: 0.0165s\n",
      "[from_data_list] Init: 0.0002s | Loop: 0.0144s | Finalize: 0.0024s | Total: 0.0169s\n",
      "[from_data_list] Init: 0.0001s | Loop: 0.0139s | Finalize: 0.0021s | Total: 0.0162s\n",
      "[from_data_list] Init: 0.0001s | Loop: 0.0020s | Finalize: 0.0005s | Total: 0.0026s\n",
      "[from_data_list] Init: 0.0001s | Loop: 0.0017s | Finalize: 0.0003s | Total: 0.0021s\n",
      "[from_data_list] Init: 0.0002s | Loop: 0.0143s | Finalize: 0.0025s | Total: 0.0170s\n",
      "[from_data_list] Init: 0.0002s | Loop: 0.0149s | Finalize: 0.0024s | Total: 0.0174s\n",
      "[from_data_list] Init: 0.0001s | Loop: 0.0137s | Finalize: 0.0023s | Total: 0.0161s\n",
      "[from_data_list] Init: 0.0001s | Loop: 0.0136s | Finalize: 0.0022s | Total: 0.0159s\n",
      "[from_data_list] Init: 0.0001s | Loop: 0.0140s | Finalize: 0.0025s | Total: 0.0166s\n",
      "[from_data_list] Init: 0.0001s | Loop: 0.0139s | Finalize: 0.0022s | Total: 0.0162s\n",
      "[from_data_list] Init: 0.0001s | Loop: 0.0020s | Finalize: 0.0004s | Total: 0.0026s\n",
      "[from_data_list] Init: 0.0001s | Loop: 0.0017s | Finalize: 0.0003s | Total: 0.0021s\n",
      "[from_data_list] Init: 0.0001s | Loop: 0.0144s | Finalize: 0.0026s | Total: 0.0172s\n",
      "[from_data_list] Init: 0.0001s | Loop: 0.0145s | Finalize: 0.0022s | Total: 0.0169s\n",
      "[from_data_list] Init: 0.0002s | Loop: 0.0138s | Finalize: 0.0024s | Total: 0.0163s\n",
      "[from_data_list] Init: 0.0002s | Loop: 0.0142s | Finalize: 0.0023s | Total: 0.0166s\n",
      "[from_data_list] Init: 0.0001s | Loop: 0.0141s | Finalize: 0.0023s | Total: 0.0165s\n",
      "[from_data_list] Init: 0.0002s | Loop: 0.0141s | Finalize: 0.0022s | Total: 0.0164s\n",
      "[from_data_list] Init: 0.0001s | Loop: 0.0020s | Finalize: 0.0004s | Total: 0.0026s\n",
      "[from_data_list] Init: 0.0001s | Loop: 0.0017s | Finalize: 0.0003s | Total: 0.0021s\n",
      "[from_data_list] Init: 0.0002s | Loop: 0.0140s | Finalize: 0.0025s | Total: 0.0167s\n",
      "[from_data_list] Init: 0.0001s | Loop: 0.0141s | Finalize: 0.0022s | Total: 0.0164s\n",
      "[from_data_list] Init: 0.0001s | Loop: 0.0140s | Finalize: 0.0022s | Total: 0.0164s\n",
      "[from_data_list] Init: 0.0001s | Loop: 0.0137s | Finalize: 0.0022s | Total: 0.0160s\n",
      "[from_data_list] Init: 0.0001s | Loop: 0.0140s | Finalize: 0.0023s | Total: 0.0165s\n",
      "[from_data_list] Init: 0.0001s | Loop: 0.0139s | Finalize: 0.0022s | Total: 0.0162s\n",
      "[from_data_list] Init: 0.0001s | Loop: 0.0020s | Finalize: 0.0004s | Total: 0.0026s\n",
      "[from_data_list] Init: 0.0001s | Loop: 0.0017s | Finalize: 0.0003s | Total: 0.0021s\n",
      "[from_data_list] Init: 0.0002s | Loop: 0.0165s | Finalize: 0.0047s | Total: 0.0215s\n",
      "[from_data_list] Init: 0.0002s | Loop: 0.0219s | Finalize: 0.0027s | Total: 0.0247s\n",
      "[from_data_list] Init: 0.0001s | Loop: 0.0137s | Finalize: 0.0023s | Total: 0.0161s\n",
      "[from_data_list] Init: 0.0001s | Loop: 0.0135s | Finalize: 0.0022s | Total: 0.0158s\n",
      "[from_data_list] Init: 0.0001s | Loop: 0.0137s | Finalize: 0.0024s | Total: 0.0162s\n",
      "[from_data_list] Init: 0.0001s | Loop: 0.0136s | Finalize: 0.0021s | Total: 0.0158s\n",
      "[from_data_list] Init: 0.0001s | Loop: 0.0020s | Finalize: 0.0004s | Total: 0.0025s\n",
      "[from_data_list] Init: 0.0001s | Loop: 0.0017s | Finalize: 0.0003s | Total: 0.0021s\n",
      "[from_data_list] Init: 0.0003s | Loop: 0.0140s | Finalize: 0.0024s | Total: 0.0167s\n",
      "[from_data_list] Init: 0.0001s | Loop: 0.0141s | Finalize: 0.0022s | Total: 0.0164s\n",
      "[from_data_list] Init: 0.0001s | Loop: 0.0136s | Finalize: 0.0023s | Total: 0.0160s\n",
      "[from_data_list] Init: 0.0001s | Loop: 0.0135s | Finalize: 0.0021s | Total: 0.0157s\n",
      "[from_data_list] Init: 0.0001s | Loop: 0.0140s | Finalize: 0.0024s | Total: 0.0165s\n",
      "[from_data_list] Init: 0.0002s | Loop: 0.0139s | Finalize: 0.0021s | Total: 0.0162s\n",
      "[from_data_list] Init: 0.0001s | Loop: 0.0020s | Finalize: 0.0004s | Total: 0.0026s\n",
      "[from_data_list] Init: 0.0001s | Loop: 0.0017s | Finalize: 0.0003s | Total: 0.0021s\n",
      "[from_data_list] Init: 0.0001s | Loop: 0.0139s | Finalize: 0.0025s | Total: 0.0165s\n",
      "[from_data_list] Init: 0.0001s | Loop: 0.0138s | Finalize: 0.0023s | Total: 0.0162s\n",
      "[from_data_list] Init: 0.0001s | Loop: 0.0143s | Finalize: 0.0022s | Total: 0.0167s\n",
      "[from_data_list] Init: 0.0001s | Loop: 0.0139s | Finalize: 0.0022s | Total: 0.0162s\n",
      "[from_data_list] Init: 0.0001s | Loop: 0.0138s | Finalize: 0.0022s | Total: 0.0161s\n",
      "[from_data_list] Init: 0.0001s | Loop: 0.0137s | Finalize: 0.0021s | Total: 0.0160s\n",
      "[from_data_list] Init: 0.0001s | Loop: 0.0020s | Finalize: 0.0004s | Total: 0.0026s\n",
      "[from_data_list] Init: 0.0001s | Loop: 0.0017s | Finalize: 0.0003s | Total: 0.0021s\n",
      "[from_data_list] Init: 0.0001s | Loop: 0.0148s | Finalize: 0.0026s | Total: 0.0175s\n",
      "[from_data_list] Init: 0.0001s | Loop: 0.0147s | Finalize: 0.0025s | Total: 0.0173s\n",
      "[from_data_list] Init: 0.0001s | Loop: 0.0135s | Finalize: 0.0023s | Total: 0.0159s\n",
      "[from_data_list] Init: 0.0001s | Loop: 0.0135s | Finalize: 0.0021s | Total: 0.0157s\n",
      "[from_data_list] Init: 0.0001s | Loop: 0.0137s | Finalize: 0.0024s | Total: 0.0162s\n",
      "[from_data_list] Init: 0.0001s | Loop: 0.0135s | Finalize: 0.0021s | Total: 0.0157s\n",
      "[from_data_list] Init: 0.0001s | Loop: 0.0020s | Finalize: 0.0004s | Total: 0.0026s\n",
      "[from_data_list] Init: 0.0001s | Loop: 0.0017s | Finalize: 0.0003s | Total: 0.0021s\n",
      "[from_data_list] Init: 0.0002s | Loop: 0.0142s | Finalize: 0.0023s | Total: 0.0167s\n",
      "[from_data_list] Init: 0.0002s | Loop: 0.0140s | Finalize: 0.0021s | Total: 0.0164s\n",
      "[from_data_list] Init: 0.0001s | Loop: 0.0136s | Finalize: 0.0022s | Total: 0.0159s\n",
      "[from_data_list] Init: 0.0001s | Loop: 0.0136s | Finalize: 0.0021s | Total: 0.0158s\n"
     ]
    },
    {
     "name": "stderr",
     "output_type": "stream",
     "text": [
      "`Trainer.fit` stopped: `max_epochs=10` reached.\n"
     ]
    },
    {
     "name": "stdout",
     "output_type": "stream",
     "text": [
      "[from_data_list] Init: 0.0001s | Loop: 0.0137s | Finalize: 0.0023s | Total: 0.0161s\n",
      "[from_data_list] Init: 0.0001s | Loop: 0.0138s | Finalize: 0.0022s | Total: 0.0161s\n",
      "[from_data_list] Init: 0.0001s | Loop: 0.0019s | Finalize: 0.0004s | Total: 0.0025s\n",
      "[from_data_list] Init: 0.0001s | Loop: 0.0017s | Finalize: 0.0003s | Total: 0.0020s\n"
     ]
    }
   ],
   "source": [
    "from pytorch_lightning import Trainer\n",
    "\n",
    "trainer = Trainer(\n",
    "    max_epochs=10,\n",
    "    accelerator='gpu',\n",
    "    devices=1,\n",
    "    enable_progress_bar=True,\n",
    ")\n",
    "trainer.fit(\n",
    "    multi_model,\n",
    "    dataloaded,\n",
    ")"
   ]
  },
  {
   "cell_type": "code",
   "execution_count": 34,
   "metadata": {},
   "outputs": [
    {
     "name": "stderr",
     "output_type": "stream",
     "text": [
      "LOCAL_RANK: 0 - CUDA_VISIBLE_DEVICES: [0]\n"
     ]
    },
    {
     "name": "stderr",
     "output_type": "stream",
     "text": [
      "/home/calvin/miniforge3/envs/dmpnn_rocm/lib/python3.10/site-packages/pytorch_lightning/trainer/connectors/data_connector.py:425: The 'test_dataloader' does not have many workers which may be a bottleneck. Consider increasing the value of the `num_workers` argument` to `num_workers=19` in the `DataLoader` to improve performance.\n"
     ]
    },
    {
     "data": {
      "application/vnd.jupyter.widget-view+json": {
       "model_id": "8a4facccc1bb4c40a5694890ccb665a6",
       "version_major": 2,
       "version_minor": 0
      },
      "text/plain": [
       "Testing: |          | 0/? [00:00<?, ?it/s]"
      ]
     },
     "metadata": {},
     "output_type": "display_data"
    },
    {
     "name": "stdout",
     "output_type": "stream",
     "text": [
      "[from_data_list] Init: 0.0003s | Loop: 0.0135s | Finalize: 0.0032s | Total: 0.0170s\n",
      "[from_data_list] Init: 0.0002s | Loop: 0.0165s | Finalize: 0.0029s | Total: 0.0195s\n",
      "[from_data_list] Init: 0.0005s | Loop: 0.0247s | Finalize: 0.0033s | Total: 0.0285s\n",
      "[from_data_list] Init: 0.0002s | Loop: 0.0188s | Finalize: 0.0046s | Total: 0.0236s\n",
      "[from_data_list] Init: 0.0001s | Loop: 0.0131s | Finalize: 0.0025s | Total: 0.0157s\n",
      "[from_data_list] Init: 0.0001s | Loop: 0.0128s | Finalize: 0.0024s | Total: 0.0153s\n",
      "[from_data_list] Init: 0.0002s | Loop: 0.0019s | Finalize: 0.0004s | Total: 0.0025s\n",
      "[from_data_list] Init: 0.0001s | Loop: 0.0016s | Finalize: 0.0003s | Total: 0.0019s\n"
     ]
    },
    {
     "data": {
      "text/html": [
       "<pre style=\"white-space:pre;overflow-x:auto;line-height:normal;font-family:Menlo,'DejaVu Sans Mono',consolas,'Courier New',monospace\">┏━━━━━━━━━━━━━━━━━━━━━━━━━━━┳━━━━━━━━━━━━━━━━━━━━━━━━━━━┓\n",
       "┃<span style=\"font-weight: bold\">        Test metric        </span>┃<span style=\"font-weight: bold\">       DataLoader 0        </span>┃\n",
       "┡━━━━━━━━━━━━━━━━━━━━━━━━━━━╇━━━━━━━━━━━━━━━━━━━━━━━━━━━┩\n",
       "│<span style=\"color: #008080; text-decoration-color: #008080\">            MAE            </span>│<span style=\"color: #800080; text-decoration-color: #800080\">    0.2376757115125656     </span>│\n",
       "│<span style=\"color: #008080; text-decoration-color: #008080\">            R2             </span>│<span style=\"color: #800080; text-decoration-color: #800080\">    0.9394694566726685     </span>│\n",
       "│<span style=\"color: #008080; text-decoration-color: #008080\">           RMSE            </span>│<span style=\"color: #800080; text-decoration-color: #800080\">    0.32477355003356934    </span>│\n",
       "└───────────────────────────┴───────────────────────────┘\n",
       "</pre>\n"
      ],
      "text/plain": [
       "┏━━━━━━━━━━━━━━━━━━━━━━━━━━━┳━━━━━━━━━━━━━━━━━━━━━━━━━━━┓\n",
       "┃\u001B[1m \u001B[0m\u001B[1m       Test metric       \u001B[0m\u001B[1m \u001B[0m┃\u001B[1m \u001B[0m\u001B[1m      DataLoader 0       \u001B[0m\u001B[1m \u001B[0m┃\n",
       "┡━━━━━━━━━━━━━━━━━━━━━━━━━━━╇━━━━━━━━━━━━━━━━━━━━━━━━━━━┩\n",
       "│\u001B[36m \u001B[0m\u001B[36m           MAE           \u001B[0m\u001B[36m \u001B[0m│\u001B[35m \u001B[0m\u001B[35m   0.2376757115125656    \u001B[0m\u001B[35m \u001B[0m│\n",
       "│\u001B[36m \u001B[0m\u001B[36m           R2            \u001B[0m\u001B[36m \u001B[0m│\u001B[35m \u001B[0m\u001B[35m   0.9394694566726685    \u001B[0m\u001B[35m \u001B[0m│\n",
       "│\u001B[36m \u001B[0m\u001B[36m          RMSE           \u001B[0m\u001B[36m \u001B[0m│\u001B[35m \u001B[0m\u001B[35m   0.32477355003356934   \u001B[0m\u001B[35m \u001B[0m│\n",
       "└───────────────────────────┴───────────────────────────┘\n"
      ]
     },
     "metadata": {},
     "output_type": "display_data"
    },
    {
     "data": {
      "text/plain": [
       "[{'RMSE': 0.32477355003356934,\n",
       "  'MAE': 0.2376757115125656,\n",
       "  'R2': 0.9394694566726685}]"
      ]
     },
     "execution_count": 34,
     "metadata": {},
     "output_type": "execute_result"
    }
   ],
   "source": [
    "trainer.test(\n",
    "    multi_model,\n",
    "    dataloaded,\n",
    ")"
   ]
  },
  {
   "cell_type": "code",
   "execution_count": null,
   "metadata": {},
   "outputs": [],
   "source": []
  }
 ],
 "metadata": {
  "kernelspec": {
   "display_name": "dmpnn_rocm",
   "language": "python",
   "name": "python3"
  },
  "language_info": {
   "codemirror_mode": {
    "name": "ipython",
    "version": 3
   },
   "file_extension": ".py",
   "mimetype": "text/x-python",
   "name": "python",
   "nbconvert_exporter": "python",
   "pygments_lexer": "ipython3",
   "version": "3.10.16"
  }
 },
 "nbformat": 4,
 "nbformat_minor": 2
}
